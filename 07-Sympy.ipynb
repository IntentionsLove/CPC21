{
 "cells": [
  {
   "cell_type": "markdown",
   "metadata": {},
   "source": [
    "# Introducción a la Computación Científica con Python\n",
    "\n",
    "Adaptado a partir de la versión original en inglés de [J.R. Johansson](http://jrjohansson.github.io/) (robert@riken.jp), por [G.F. Rubilar](https://gfrubi.github.io).\n",
    "\n",
    "La última versión del original (en inglés) está disponible en [http://github.com/jrjohansson/scientific-python-lectures](http://github.com/jrjohansson/scientific-python-lectures)."
   ]
  },
  {
   "cell_type": "code",
   "execution_count": 1,
   "metadata": {},
   "outputs": [],
   "source": [
    "%matplotlib notebook"
   ]
  },
  {
   "cell_type": "markdown",
   "metadata": {},
   "source": [
    "## SymPy"
   ]
  },
  {
   "cell_type": "markdown",
   "metadata": {},
   "source": [
    "# Introducción\n",
    "\n",
    "[SymPy](http://sympy.org/en/index.html) es un módulo de matemática simbólica para Pytho. Tiene el objetivo de ofrecer un \"sistema de álgebra computacional\" (CAS) completo. SymPy está escrito completamente en Python.\n",
    "\n",
    "Para comenzar a usar SymPy en un programa Python o en un notebook, importamos el módulo `sympy`:"
   ]
  },
  {
   "cell_type": "code",
   "execution_count": 2,
   "metadata": {},
   "outputs": [],
   "source": [
    "import sympy as sp"
   ]
  },
  {
   "cell_type": "markdown",
   "metadata": {},
   "source": [
    "Para que los resultados sean formateados en $\\LaTeX$ podemos usar:"
   ]
  },
  {
   "cell_type": "code",
   "execution_count": 3,
   "metadata": {},
   "outputs": [],
   "source": [
    "sp.init_printing()"
   ]
  },
  {
   "cell_type": "markdown",
   "metadata": {},
   "source": [
    "## Variables simbólicas\n",
    "\n",
    "En SymPy, los objetos fundamentales con los que trabajaremos son *símbolos* para las variables con las que deseamos realizar operaciones. Podemos crear un nuevo símbolo usando la clase `Symbol`:"
   ]
  },
  {
   "cell_type": "code",
   "execution_count": 4,
   "metadata": {},
   "outputs": [],
   "source": [
    "x = sp.Symbol('x')"
   ]
  },
  {
   "cell_type": "code",
   "execution_count": 5,
   "metadata": {},
   "outputs": [
    {
     "data": {
      "image/png": "[encoded data removed]",
      "text/latex": [
       "$$\\left(x + \\pi\\right)^{2}$$"
      ],
      "text/plain": [
       "       2\n",
       "(x + π) "
      ]
     },
     "execution_count": 5,
     "metadata": {},
     "output_type": "execute_result"
    }
   ],
   "source": [
    "(sp.pi + x)**2"
   ]
  },
  {
   "cell_type": "markdown",
   "metadata": {},
   "source": [
    "También podemos definir varios símbolos simultáneamente, usando la función `symbols`:"
   ]
  },
  {
   "cell_type": "code",
   "execution_count": 6,
   "metadata": {},
   "outputs": [],
   "source": [
    "a, b, c = sp.symbols(\"a, b, c\")"
   ]
  },
  {
   "cell_type": "code",
   "execution_count": 7,
   "metadata": {},
   "outputs": [
    {
     "data": {
      "text/plain": [
       "sympy.core.symbol.Symbol"
      ]
     },
     "execution_count": 7,
     "metadata": {},
     "output_type": "execute_result"
    }
   ],
   "source": [
    "type(a)"
   ]
  },
  {
   "cell_type": "markdown",
   "metadata": {},
   "source": [
    "Podemos agregar algunas propiedades a los símbolos cuando son creados:"
   ]
  },
  {
   "cell_type": "code",
   "execution_count": 8,
   "metadata": {},
   "outputs": [],
   "source": [
    "x = sp.Symbol('x', real=True)"
   ]
  },
  {
   "cell_type": "code",
   "execution_count": 9,
   "metadata": {},
   "outputs": [
    {
     "data": {
      "text/plain": [
       "False"
      ]
     },
     "execution_count": 9,
     "metadata": {},
     "output_type": "execute_result"
    }
   ],
   "source": [
    "x.is_imaginary"
   ]
  },
  {
   "cell_type": "code",
   "execution_count": 10,
   "metadata": {},
   "outputs": [],
   "source": [
    "x = sp.Symbol('x', positive=True)"
   ]
  },
  {
   "cell_type": "code",
   "execution_count": 11,
   "metadata": {},
   "outputs": [
    {
     "data": {
      "image/png": "[encoded data removed]",
      "text/latex": [
       "$$\\mathrm{True}$$"
      ],
      "text/plain": [
       "True"
      ]
     },
     "execution_count": 11,
     "metadata": {},
     "output_type": "execute_result"
    }
   ],
   "source": [
    "x > 0"
   ]
  },
  {
   "cell_type": "markdown",
   "metadata": {},
   "source": [
    "### Números complejos\n",
    "\n",
    "La unidad imaginaria es denotada por `I` en SymPy. "
   ]
  },
  {
   "cell_type": "code",
   "execution_count": 12,
   "metadata": {},
   "outputs": [
    {
     "data": {
      "image/png": "[encoded data removed]",
      "text/latex": [
       "$$2 + 3 i$$"
      ],
      "text/plain": [
       "2 + 3⋅ⅈ"
      ]
     },
     "execution_count": 12,
     "metadata": {},
     "output_type": "execute_result"
    }
   ],
   "source": [
    "2+3*sp.I"
   ]
  },
  {
   "cell_type": "code",
   "execution_count": 13,
   "metadata": {},
   "outputs": [
    {
     "data": {
      "image/png": "[encoded data removed]",
      "text/latex": [
       "$$-1$$"
      ],
      "text/plain": [
       "-1"
      ]
     },
     "execution_count": 13,
     "metadata": {},
     "output_type": "execute_result"
    }
   ],
   "source": [
    "sp.I**2"
   ]
  },
  {
   "cell_type": "code",
   "execution_count": 14,
   "metadata": {},
   "outputs": [
    {
     "data": {
      "image/png": "[encoded data removed]",
      "text/latex": [
       "$$\\left(i x + 1\\right)^{2}$$"
      ],
      "text/plain": [
       "         2\n",
       "(ⅈ⋅x + 1) "
      ]
     },
     "execution_count": 14,
     "metadata": {},
     "output_type": "execute_result"
    }
   ],
   "source": [
    "(x*sp.I + 1)**2"
   ]
  },
  {
   "cell_type": "markdown",
   "metadata": {},
   "source": [
    "### Números racionales\n",
    "\n",
    "Existen tres tipos distintos de números en SymPy: `Real`, `Rational`, `Integer`: "
   ]
  },
  {
   "cell_type": "code",
   "execution_count": 15,
   "metadata": {},
   "outputs": [],
   "source": [
    "r1 = sp.Rational(4,5)\n",
    "r2 = sp.Rational(5,4)"
   ]
  },
  {
   "cell_type": "code",
   "execution_count": 16,
   "metadata": {},
   "outputs": [
    {
     "data": {
      "image/png": "[encoded data removed]",
      "text/latex": [
       "$$\\frac{4}{5}$$"
      ],
      "text/plain": [
       "4/5"
      ]
     },
     "execution_count": 16,
     "metadata": {},
     "output_type": "execute_result"
    }
   ],
   "source": [
    "r1"
   ]
  },
  {
   "cell_type": "code",
   "execution_count": 17,
   "metadata": {},
   "outputs": [
    {
     "data": {
      "image/png": "[encoded data removed]",
      "text/latex": [
       "$$\\frac{41}{20}$$"
      ],
      "text/plain": [
       "41\n",
       "──\n",
       "20"
      ]
     },
     "execution_count": 17,
     "metadata": {},
     "output_type": "execute_result"
    }
   ],
   "source": [
    "r1 + r2"
   ]
  },
  {
   "cell_type": "code",
   "execution_count": 18,
   "metadata": {},
   "outputs": [
    {
     "data": {
      "image/png": "[encoded data removed]",
      "text/latex": [
       "$$\\frac{16}{25}$$"
      ],
      "text/plain": [
       "16\n",
       "──\n",
       "25"
      ]
     },
     "execution_count": 18,
     "metadata": {},
     "output_type": "execute_result"
    }
   ],
   "source": [
    "r1/r2"
   ]
  },
  {
   "cell_type": "markdown",
   "metadata": {},
   "source": [
    "### Evaluación numérica\n",
    "\n",
    "SymPy usa una librería para trabajar con números con precisión arbitraria, y tiene expresiones SymPy  predefinidas para varias constantes matemáticas, tales como: `pi`, `e` y `oo` para el infinito.\n",
    "\n",
    "Para evaluar numéricamente una expresión podemos usar la función `evalf` (o bien `N`). Éstas usan un argumento `n` que especifíca el número de cifras significativas."
   ]
  },
  {
   "cell_type": "code",
   "execution_count": 19,
   "metadata": {},
   "outputs": [
    {
     "data": {
      "image/png": "[encoded data removed]",
      "text/latex": [
       "$$3.1415926535897932384626433832795028841971693993751$$"
      ],
      "text/plain": [
       "3.1415926535897932384626433832795028841971693993751"
      ]
     },
     "execution_count": 19,
     "metadata": {},
     "output_type": "execute_result"
    }
   ],
   "source": [
    "sp.pi.evalf(n=50)"
   ]
  },
  {
   "cell_type": "code",
   "execution_count": 20,
   "metadata": {},
   "outputs": [
    {
     "data": {
      "image/png": "[encoded data removed]",
      "text/latex": [
       "$$\\left(x + \\pi\\right)^{2}$$"
      ],
      "text/plain": [
       "       2\n",
       "(x + π) "
      ]
     },
     "execution_count": 20,
     "metadata": {},
     "output_type": "execute_result"
    }
   ],
   "source": [
    "y = (x + sp.pi)**2\n",
    "y"
   ]
  },
  {
   "cell_type": "code",
   "execution_count": 21,
   "metadata": {},
   "outputs": [
    {
     "data": {
      "image/png": "[encoded data removed]",
      "text/latex": [
       "$$\\left(x + 3.1416\\right)^{2}$$"
      ],
      "text/plain": [
       "            2\n",
       "(x + 3.1416) "
      ]
     },
     "execution_count": 21,
     "metadata": {},
     "output_type": "execute_result"
    }
   ],
   "source": [
    "sp.N(y, 5) # equivalente a evalf"
   ]
  },
  {
   "cell_type": "markdown",
   "metadata": {},
   "source": [
    "Cuando evaluamos numéricamente expresiones a menudo deseamos substituir un símbolo por un valor numérico. En SymPy hacemos esto usando la función `subs`:"
   ]
  },
  {
   "cell_type": "code",
   "execution_count": 22,
   "metadata": {},
   "outputs": [
    {
     "data": {
      "image/png": "[encoded data removed]",
      "text/latex": [
       "$$\\left(1.5 + \\pi\\right)^{2}$$"
      ],
      "text/plain": [
       "         2\n",
       "(1.5 + π) "
      ]
     },
     "execution_count": 22,
     "metadata": {},
     "output_type": "execute_result"
    }
   ],
   "source": [
    "y.subs(x, 1.5)"
   ]
  },
  {
   "cell_type": "markdown",
   "metadata": {},
   "source": [
    "La función `subs` también puede ser usada para substituir símbolos y expresiones:"
   ]
  },
  {
   "cell_type": "code",
   "execution_count": 23,
   "metadata": {},
   "outputs": [
    {
     "data": {
      "image/png": "[encoded data removed]",
      "text/latex": [
       "$$\\left(a + 2 \\pi\\right)^{2}$$"
      ],
      "text/plain": [
       "         2\n",
       "(a + 2⋅π) "
      ]
     },
     "execution_count": 23,
     "metadata": {},
     "output_type": "execute_result"
    }
   ],
   "source": [
    "y.subs(x, a+sp.pi)"
   ]
  },
  {
   "cell_type": "markdown",
   "metadata": {},
   "source": [
    "## Manipulaciones algebráicas\n",
    "\n",
    "Uno de los usos principales de un sistema de cálculo simbólico es realizar manipulaciones algebráicas de expresiones. Por ejemplo, si queremos expandir un producto, factorizar una expresión, o simplificar un resultado. En esta sección presentamos las funciones para realizar estas operaciones básicas en SymPy."
   ]
  },
  {
   "cell_type": "markdown",
   "metadata": {},
   "source": [
    "### Expand y factor\n",
    "\n",
    "Primeros pasos en la manipulación algebráica"
   ]
  },
  {
   "cell_type": "code",
   "execution_count": 24,
   "metadata": {},
   "outputs": [
    {
     "data": {
      "image/png": "[encoded data removed]",
      "text/latex": [
       "$$\\left(x + 1\\right) \\left(x + 2\\right) \\left(x + 3\\right)$$"
      ],
      "text/plain": [
       "(x + 1)⋅(x + 2)⋅(x + 3)"
      ]
     },
     "execution_count": 24,
     "metadata": {},
     "output_type": "execute_result"
    }
   ],
   "source": [
    "(x+1)*(x+2)*(x+3)"
   ]
  },
  {
   "cell_type": "code",
   "execution_count": 25,
   "metadata": {},
   "outputs": [
    {
     "data": {
      "image/png": "[encoded data removed]",
      "text/latex": [
       "$$x^{3} + 6 x^{2} + 11 x + 6$$"
      ],
      "text/plain": [
       " 3      2           \n",
       "x  + 6⋅x  + 11⋅x + 6"
      ]
     },
     "execution_count": 25,
     "metadata": {},
     "output_type": "execute_result"
    }
   ],
   "source": [
    "sp.expand((x+1)*(x+2)*(x+3))"
   ]
  },
  {
   "cell_type": "markdown",
   "metadata": {},
   "source": [
    "La función `expand` acepta varios argumentos con los que se puede indicar qué tipo de expansión deseamos realizar. Por ejemplo, para expandir expresiones trigonométricas, usamos el argumento clave `trig=True`:"
   ]
  },
  {
   "cell_type": "code",
   "execution_count": 26,
   "metadata": {},
   "outputs": [
    {
     "data": {
      "image/png": "[encoded data removed]",
      "text/latex": [
       "$$\\sin{\\left (a + b \\right )}$$"
      ],
      "text/plain": [
       "sin(a + b)"
      ]
     },
     "execution_count": 26,
     "metadata": {},
     "output_type": "execute_result"
    }
   ],
   "source": [
    "sp.sin(a+b)"
   ]
  },
  {
   "cell_type": "code",
   "execution_count": 27,
   "metadata": {},
   "outputs": [
    {
     "data": {
      "image/png": "[encoded data removed]",
      "text/latex": [
       "$$\\sin{\\left (a \\right )} \\cos{\\left (b \\right )} + \\sin{\\left (b \\right )} \\cos{\\left (a \\right )}$$"
      ],
      "text/plain": [
       "sin(a)⋅cos(b) + sin(b)⋅cos(a)"
      ]
     },
     "execution_count": 27,
     "metadata": {},
     "output_type": "execute_result"
    }
   ],
   "source": [
    "sp.expand(sp.sin(a+b), trig=True)"
   ]
  },
  {
   "cell_type": "markdown",
   "metadata": {},
   "source": [
    "Ver `help(expand)` para una descripción detallada de los distintos tipos de expansiones que la función `expand` puede realizar."
   ]
  },
  {
   "cell_type": "markdown",
   "metadata": {},
   "source": [
    "También podemos factorizar expresiones, usando la función `factor` de SymPy: "
   ]
  },
  {
   "cell_type": "code",
   "execution_count": 28,
   "metadata": {},
   "outputs": [
    {
     "data": {
      "image/png": "[encoded data removed]",
      "text/latex": [
       "$$\\left(x + 1\\right) \\left(x + 2\\right) \\left(x + 3\\right)$$"
      ],
      "text/plain": [
       "(x + 1)⋅(x + 2)⋅(x + 3)"
      ]
     },
     "execution_count": 28,
     "metadata": {},
     "output_type": "execute_result"
    }
   ],
   "source": [
    "sp.factor(x**3 + 6*x**2 + 11*x + 6)"
   ]
  },
  {
   "cell_type": "markdown",
   "metadata": {},
   "source": [
    "### Simplify\n",
    "\n",
    "La función `simplify` intenta simplificar una expresión usando distinta técnicas. Existen también alternativas más específicas a la función `simplify`: `trigsimp`, `powsimp`, `logcombine`, etc. \n",
    "\n",
    "El uso básico de estas funciones en el siguiente:"
   ]
  },
  {
   "cell_type": "code",
   "execution_count": 29,
   "metadata": {},
   "outputs": [
    {
     "data": {
      "image/png": "[encoded data removed]",
      "text/latex": [
       "$$x^{2} - 1$$"
      ],
      "text/plain": [
       " 2    \n",
       "x  - 1"
      ]
     },
     "execution_count": 29,
     "metadata": {},
     "output_type": "execute_result"
    }
   ],
   "source": [
    "# simplify expande un producto\n",
    "sp.simplify((x+1)*(x-1))"
   ]
  },
  {
   "cell_type": "code",
   "execution_count": 30,
   "metadata": {},
   "outputs": [
    {
     "data": {
      "image/png": "[encoded data removed]",
      "text/latex": [
       "$$1$$"
      ],
      "text/plain": [
       "1"
      ]
     },
     "execution_count": 30,
     "metadata": {},
     "output_type": "execute_result"
    }
   ],
   "source": [
    "# simplify usa identidades trigonometricas\n",
    "sp.simplify(sp.sin(a)**2 + sp.cos(a)**2)"
   ]
  },
  {
   "cell_type": "code",
   "execution_count": 31,
   "metadata": {},
   "outputs": [
    {
     "data": {
      "image/png": "[encoded data removed]",
      "text/latex": [
       "$$\\tan{\\left (x \\right )}$$"
      ],
      "text/plain": [
       "tan(x)"
      ]
     },
     "execution_count": 31,
     "metadata": {},
     "output_type": "execute_result"
    }
   ],
   "source": [
    "sp.simplify(sp.sin(x)/sp.cos(x))"
   ]
  },
  {
   "cell_type": "markdown",
   "metadata": {},
   "source": [
    "## apart and together\n",
    "\n",
    "Podemos también manipular expresiones simbólicas que involucran fracciones usando las funciones `apart` y `together`. La primera de estas funciones separa una fracción en sus correspondientes fracciones parciales; la segunda hace todo lo contrario."
   ]
  },
  {
   "cell_type": "code",
   "execution_count": 32,
   "metadata": {},
   "outputs": [],
   "source": [
    "f1 = 1/((a+1)*(a+2))"
   ]
  },
  {
   "cell_type": "code",
   "execution_count": 33,
   "metadata": {},
   "outputs": [
    {
     "data": {
      "image/png": "[encoded data removed]",
      "text/latex": [
       "$$\\frac{1}{\\left(a + 1\\right) \\left(a + 2\\right)}$$"
      ],
      "text/plain": [
       "       1       \n",
       "───────────────\n",
       "(a + 1)⋅(a + 2)"
      ]
     },
     "execution_count": 33,
     "metadata": {},
     "output_type": "execute_result"
    }
   ],
   "source": [
    "f1"
   ]
  },
  {
   "cell_type": "code",
   "execution_count": 34,
   "metadata": {},
   "outputs": [
    {
     "data": {
      "image/png": "[encoded data removed]",
      "text/latex": [
       "$$- \\frac{1}{a + 2} + \\frac{1}{a + 1}$$"
      ],
      "text/plain": [
       "    1       1  \n",
       "- ───── + ─────\n",
       "  a + 2   a + 1"
      ]
     },
     "execution_count": 34,
     "metadata": {},
     "output_type": "execute_result"
    }
   ],
   "source": [
    "sp.apart(f1)"
   ]
  },
  {
   "cell_type": "code",
   "execution_count": 35,
   "metadata": {},
   "outputs": [],
   "source": [
    "f2 = 1/(a+2) + 1/(a+3)"
   ]
  },
  {
   "cell_type": "code",
   "execution_count": 36,
   "metadata": {},
   "outputs": [
    {
     "data": {
      "image/png": "[encoded data removed]",
      "text/latex": [
       "$$\\frac{1}{a + 3} + \\frac{1}{a + 2}$$"
      ],
      "text/plain": [
       "  1       1  \n",
       "───── + ─────\n",
       "a + 3   a + 2"
      ]
     },
     "execution_count": 36,
     "metadata": {},
     "output_type": "execute_result"
    }
   ],
   "source": [
    "f2"
   ]
  },
  {
   "cell_type": "code",
   "execution_count": 37,
   "metadata": {},
   "outputs": [
    {
     "data": {
      "image/png": "[encoded data removed]",
      "text/latex": [
       "$$\\frac{2 a + 5}{\\left(a + 2\\right) \\left(a + 3\\right)}$$"
      ],
      "text/plain": [
       "    2⋅a + 5    \n",
       "───────────────\n",
       "(a + 2)⋅(a + 3)"
      ]
     },
     "execution_count": 37,
     "metadata": {},
     "output_type": "execute_result"
    }
   ],
   "source": [
    "sp.together(f2)"
   ]
  },
  {
   "cell_type": "markdown",
   "metadata": {},
   "source": [
    "### Sumas y productos\n",
    "\n",
    "Podemos evaluar sumatorias y productos usando las funciones `Sum` y `Product`"
   ]
  },
  {
   "cell_type": "code",
   "execution_count": 38,
   "metadata": {},
   "outputs": [],
   "source": [
    "n = sp.Symbol(\"n\", integer=True)"
   ]
  },
  {
   "cell_type": "code",
   "execution_count": 39,
   "metadata": {},
   "outputs": [
    {
     "data": {
      "image/png": "[encoded data removed]",
      "text/latex": [
       "$$\\sum_{n=1}^{10} \\frac{1}{n^{2}}$$"
      ],
      "text/plain": [
       "  10    \n",
       " ____   \n",
       " ╲      \n",
       "  ╲   1 \n",
       "   ╲  ──\n",
       "   ╱   2\n",
       "  ╱   n \n",
       " ╱      \n",
       " ‾‾‾‾   \n",
       "n = 1   "
      ]
     },
     "execution_count": 39,
     "metadata": {},
     "output_type": "execute_result"
    }
   ],
   "source": [
    "suma = sp.Sum(1/n**2, (n, 1, 10))\n",
    "suma"
   ]
  },
  {
   "cell_type": "code",
   "execution_count": 40,
   "metadata": {},
   "outputs": [
    {
     "data": {
      "image/png": "[encoded data removed]",
      "text/latex": [
       "$$\\frac{1968329}{1270080}$$"
      ],
      "text/plain": [
       "1968329\n",
       "───────\n",
       "1270080"
      ]
     },
     "execution_count": 40,
     "metadata": {},
     "output_type": "execute_result"
    }
   ],
   "source": [
    "suma.doit()"
   ]
  },
  {
   "cell_type": "code",
   "execution_count": 41,
   "metadata": {},
   "outputs": [
    {
     "data": {
      "image/png": "[encoded data removed]",
      "text/latex": [
       "$$1.54976773116654$$"
      ],
      "text/plain": [
       "1.54976773116654"
      ]
     },
     "execution_count": 41,
     "metadata": {},
     "output_type": "execute_result"
    }
   ],
   "source": [
    "suma.evalf()"
   ]
  },
  {
   "cell_type": "code",
   "execution_count": 42,
   "metadata": {},
   "outputs": [
    {
     "data": {
      "image/png": "[encoded data removed]",
      "text/latex": [
       "$$\\sum_{n=1}^{\\infty} \\frac{1}{n^{2}}$$"
      ],
      "text/plain": [
       "  ∞     \n",
       " ____   \n",
       " ╲      \n",
       "  ╲   1 \n",
       "   ╲  ──\n",
       "   ╱   2\n",
       "  ╱   n \n",
       " ╱      \n",
       " ‾‾‾‾   \n",
       "n = 1   "
      ]
     },
     "execution_count": 42,
     "metadata": {},
     "output_type": "execute_result"
    }
   ],
   "source": [
    "suma2 = sp.Sum(1/n**2, (n, 1, sp.oo))\n",
    "suma2"
   ]
  },
  {
   "cell_type": "code",
   "execution_count": 43,
   "metadata": {},
   "outputs": [
    {
     "data": {
      "image/png": "[encoded data removed]",
      "text/latex": [
       "$$1.64493406684823$$"
      ],
      "text/plain": [
       "1.64493406684823"
      ]
     },
     "execution_count": 43,
     "metadata": {},
     "output_type": "execute_result"
    }
   ],
   "source": [
    "suma2.evalf()"
   ]
  },
  {
   "cell_type": "code",
   "execution_count": 44,
   "metadata": {},
   "outputs": [
    {
     "data": {
      "image/png": "[encoded data removed]",
      "text/latex": [
       "$$\\sum_{n=0}^{\\infty} \\frac{x^{n}}{n!}$$"
      ],
      "text/plain": [
       "  ∞     \n",
       " ____   \n",
       " ╲      \n",
       "  ╲    n\n",
       "   ╲  x \n",
       "   ╱  ──\n",
       "  ╱   n!\n",
       " ╱      \n",
       " ‾‾‾‾   \n",
       "n = 0   "
      ]
     },
     "execution_count": 44,
     "metadata": {},
     "output_type": "execute_result"
    }
   ],
   "source": [
    "suma3 = sp.Sum(x**n/(sp.factorial(n)),(n,0,sp.oo))\n",
    "suma3"
   ]
  },
  {
   "cell_type": "code",
   "execution_count": 45,
   "metadata": {},
   "outputs": [
    {
     "data": {
      "image/png": "[encoded data removed]",
      "text/latex": [
       "$$e^{x}$$"
      ],
      "text/plain": [
       " x\n",
       "ℯ "
      ]
     },
     "execution_count": 45,
     "metadata": {},
     "output_type": "execute_result"
    }
   ],
   "source": [
    "suma3.doit()"
   ]
  },
  {
   "cell_type": "markdown",
   "metadata": {},
   "source": [
    "Productos funcionan de manera similar:"
   ]
  },
  {
   "cell_type": "code",
   "execution_count": 46,
   "metadata": {},
   "outputs": [
    {
     "data": {
      "image/png": "[encoded data removed]",
      "text/latex": [
       "$$\\prod_{n=1}^{10} n$$"
      ],
      "text/plain": [
       "  10   \n",
       "┬───┬  \n",
       "│   │ n\n",
       "│   │  \n",
       "n = 1  "
      ]
     },
     "execution_count": 46,
     "metadata": {},
     "output_type": "execute_result"
    }
   ],
   "source": [
    "producto = sp.Product(n, (n, 1, 10)) # 10!\n",
    "producto"
   ]
  },
  {
   "cell_type": "code",
   "execution_count": 47,
   "metadata": {},
   "outputs": [
    {
     "data": {
      "image/png": "[encoded data removed]",
      "text/latex": [
       "$$3628800$$"
      ],
      "text/plain": [
       "3628800"
      ]
     },
     "execution_count": 47,
     "metadata": {},
     "output_type": "execute_result"
    }
   ],
   "source": [
    "producto.doit()"
   ]
  },
  {
   "cell_type": "code",
   "execution_count": 48,
   "metadata": {},
   "outputs": [
    {
     "data": {
      "image/png": "[encoded data removed]",
      "text/latex": [
       "$$3628800.0$$"
      ],
      "text/plain": [
       "3628800.00000000"
      ]
     },
     "execution_count": 48,
     "metadata": {},
     "output_type": "execute_result"
    }
   ],
   "source": [
    "producto.evalf()"
   ]
  },
  {
   "cell_type": "markdown",
   "metadata": {},
   "source": [
    "### Límites\n",
    "\n",
    "SymPy permite evaluar límites usando la función `limit`. Por ejemplo, "
   ]
  },
  {
   "cell_type": "code",
   "execution_count": 49,
   "metadata": {},
   "outputs": [
    {
     "data": {
      "image/png": "[encoded data removed]",
      "text/latex": [
       "$$1$$"
      ],
      "text/plain": [
       "1"
      ]
     },
     "execution_count": 49,
     "metadata": {},
     "output_type": "execute_result"
    }
   ],
   "source": [
    "sp.limit(sp.sin(x)/x, x, 0)"
   ]
  },
  {
   "cell_type": "markdown",
   "metadata": {},
   "source": [
    "También es posible calcular límites \"por la derecha\" y \"por la izquierda\" usando el argumento opcional `dir`:"
   ]
  },
  {
   "cell_type": "code",
   "execution_count": 50,
   "metadata": {},
   "outputs": [
    {
     "data": {
      "image/png": "[encoded data removed]",
      "text/latex": [
       "$$\\infty$$"
      ],
      "text/plain": [
       "∞"
      ]
     },
     "execution_count": 50,
     "metadata": {},
     "output_type": "execute_result"
    }
   ],
   "source": [
    "sp.limit(1/x, x, 0, dir=\"+\")"
   ]
  },
  {
   "cell_type": "code",
   "execution_count": 51,
   "metadata": {
    "scrolled": true
   },
   "outputs": [
    {
     "data": {
      "image/png": "[encoded data removed]",
      "text/latex": [
       "$$-\\infty$$"
      ],
      "text/plain": [
       "-∞"
      ]
     },
     "execution_count": 51,
     "metadata": {},
     "output_type": "execute_result"
    }
   ],
   "source": [
    "sp.limit(1/x, x, 0, dir=\"-\")"
   ]
  },
  {
   "cell_type": "markdown",
   "metadata": {},
   "source": [
    "## Cálculo\n",
    "\n",
    "Además de realizar manipulaciones algebráicas, SimPy puede realizar operaciones de cálculo, tales como derivar y derivar expresiones."
   ]
  },
  {
   "cell_type": "markdown",
   "metadata": {},
   "source": [
    "### Derivación\n",
    "\n",
    "Derviar es usualmente algo simple. Usamos la función `diff`. El primer argumento es una expresión que será derivada, y el segundo argumento es el símbolo respecto al cual se realizará la derivada:"
   ]
  },
  {
   "cell_type": "code",
   "execution_count": 52,
   "metadata": {},
   "outputs": [
    {
     "data": {
      "image/png": "[encoded data removed]",
      "text/latex": [
       "$$\\left(x + \\pi\\right)^{4}$$"
      ],
      "text/plain": [
       "       4\n",
       "(x + π) "
      ]
     },
     "execution_count": 52,
     "metadata": {},
     "output_type": "execute_result"
    }
   ],
   "source": [
    "y**2"
   ]
  },
  {
   "cell_type": "code",
   "execution_count": 53,
   "metadata": {},
   "outputs": [
    {
     "data": {
      "image/png": "[encoded data removed]",
      "text/latex": [
       "$$4 \\left(x + \\pi\\right)^{3}$$"
      ],
      "text/plain": [
       "         3\n",
       "4⋅(x + π) "
      ]
     },
     "execution_count": 53,
     "metadata": {},
     "output_type": "execute_result"
    }
   ],
   "source": [
    "sp.diff(y**2, x)"
   ]
  },
  {
   "cell_type": "markdown",
   "metadata": {},
   "source": [
    "Para calcular derivadas de orden superior podemos usar:"
   ]
  },
  {
   "cell_type": "code",
   "execution_count": 54,
   "metadata": {},
   "outputs": [
    {
     "data": {
      "image/png": "[encoded data removed]",
      "text/latex": [
       "$$12 \\left(x + \\pi\\right)^{2}$$"
      ],
      "text/plain": [
       "          2\n",
       "12⋅(x + π) "
      ]
     },
     "execution_count": 54,
     "metadata": {},
     "output_type": "execute_result"
    }
   ],
   "source": [
    "sp.diff(y**2, x, x)"
   ]
  },
  {
   "cell_type": "markdown",
   "metadata": {},
   "source": [
    "o bien"
   ]
  },
  {
   "cell_type": "code",
   "execution_count": 55,
   "metadata": {},
   "outputs": [
    {
     "data": {
      "image/png": "[encoded data removed]",
      "text/latex": [
       "$$12 \\left(x + \\pi\\right)^{2}$$"
      ],
      "text/plain": [
       "          2\n",
       "12⋅(x + π) "
      ]
     },
     "execution_count": 55,
     "metadata": {},
     "output_type": "execute_result"
    }
   ],
   "source": [
    "sp.diff(y**2, x, 2) # hace lo mismo"
   ]
  },
  {
   "cell_type": "markdown",
   "metadata": {},
   "source": [
    "Podemos calcular la derivada de una expresión que depende de más de una variable:"
   ]
  },
  {
   "cell_type": "code",
   "execution_count": 56,
   "metadata": {},
   "outputs": [],
   "source": [
    "x, y, z = sp.symbols(\"x,y,z\")"
   ]
  },
  {
   "cell_type": "code",
   "execution_count": 57,
   "metadata": {},
   "outputs": [],
   "source": [
    "f = sp.sin(x*y) + sp.cos(y*z)"
   ]
  },
  {
   "cell_type": "markdown",
   "metadata": {},
   "source": [
    "Entonces, la dervidada \n",
    "\n",
    "$$\n",
    "\\frac{\\partial^3f}{\\partial x\\partial y^2},\n",
    "$$\n",
    "puede calcularse como"
   ]
  },
  {
   "cell_type": "code",
   "execution_count": 58,
   "metadata": {},
   "outputs": [
    {
     "data": {
      "image/png": "[encoded data removed]",
      "text/latex": [
       "$$- x \\left(x y \\cos{\\left (x y \\right )} + 2 \\sin{\\left (x y \\right )}\\right)$$"
      ],
      "text/plain": [
       "-x⋅(x⋅y⋅cos(x⋅y) + 2⋅sin(x⋅y))"
      ]
     },
     "execution_count": 58,
     "metadata": {},
     "output_type": "execute_result"
    }
   ],
   "source": [
    "sp.diff(f, x, 1, y, 2)"
   ]
  },
  {
   "cell_type": "markdown",
   "metadata": {},
   "source": [
    "### Integración\n",
    "\n",
    "La integración se realiza de forma similar:"
   ]
  },
  {
   "cell_type": "code",
   "execution_count": 59,
   "metadata": {},
   "outputs": [],
   "source": [
    "f = x*sp.sin(x)"
   ]
  },
  {
   "cell_type": "code",
   "execution_count": 60,
   "metadata": {},
   "outputs": [
    {
     "data": {
      "image/png": "[encoded data removed]",
      "text/latex": [
       "$$- x \\cos{\\left (x \\right )} + \\sin{\\left (x \\right )}$$"
      ],
      "text/plain": [
       "-x⋅cos(x) + sin(x)"
      ]
     },
     "execution_count": 60,
     "metadata": {},
     "output_type": "execute_result"
    }
   ],
   "source": [
    "sp.integrate(f, x)"
   ]
  },
  {
   "cell_type": "markdown",
   "metadata": {},
   "source": [
    "También podemos evaluar integrales definidas, agregando la información de los límites de integración:"
   ]
  },
  {
   "cell_type": "code",
   "execution_count": 61,
   "metadata": {},
   "outputs": [
    {
     "data": {
      "image/png": "[encoded data removed]",
      "text/latex": [
       "$$2 \\pi$$"
      ],
      "text/plain": [
       "2⋅π"
      ]
     },
     "execution_count": 61,
     "metadata": {},
     "output_type": "execute_result"
    }
   ],
   "source": [
    "sp.integrate(f, (x, -sp.pi, sp.pi))"
   ]
  },
  {
   "cell_type": "markdown",
   "metadata": {},
   "source": [
    "Esto incluye el caso en que los límites son infinitos"
   ]
  },
  {
   "cell_type": "code",
   "execution_count": 62,
   "metadata": {},
   "outputs": [
    {
     "data": {
      "image/png": "[encoded data removed]",
      "text/latex": [
       "$$\\sqrt{\\pi}$$"
      ],
      "text/plain": [
       "√π"
      ]
     },
     "execution_count": 62,
     "metadata": {},
     "output_type": "execute_result"
    }
   ],
   "source": [
    "sp.integrate(sp.exp(-x**2), (x, -sp.oo, sp.oo))"
   ]
  },
  {
   "cell_type": "code",
   "execution_count": 63,
   "metadata": {},
   "outputs": [
    {
     "data": {
      "image/png": "[encoded data removed]",
      "text/latex": [
       "$$\\begin{cases} \\frac{x^{n + 1}}{n + 1} & \\text{for}\\: n \\neq -1 \\\\\\log{\\left (x \\right )} & \\text{otherwise} \\end{cases}$$"
      ],
      "text/plain": [
       "⎧ n + 1            \n",
       "⎪x                 \n",
       "⎪──────  for n ≠ -1\n",
       "⎨n + 1             \n",
       "⎪                  \n",
       "⎪log(x)  otherwise \n",
       "⎩                  "
      ]
     },
     "execution_count": 63,
     "metadata": {},
     "output_type": "execute_result"
    }
   ],
   "source": [
    "n = sp.Symbol('n', int=True)\n",
    "resultado = sp.integrate(x**n,x)\n",
    "resultado"
   ]
  },
  {
   "cell_type": "markdown",
   "metadata": {},
   "source": [
    "Como vemos, `oo` (np.oo) es el objeto que en SymPy simboliza el infinito."
   ]
  },
  {
   "cell_type": "markdown",
   "metadata": {},
   "source": [
    "# Series\n",
    "\n",
    "SymPy puede realizar expansiones en series de una expresión, usando la función `series`:"
   ]
  },
  {
   "cell_type": "markdown",
   "metadata": {},
   "source": [
    "## Series de Fourier"
   ]
  },
  {
   "cell_type": "code",
   "execution_count": 64,
   "metadata": {},
   "outputs": [
    {
     "data": {
      "image/png": "[encoded data removed]",
      "text/latex": [
       "$$\\frac{2 \\sin{\\left (x \\right )}}{\\pi} + \\frac{2 \\sin{\\left (3 x \\right )}}{3 \\pi} + \\frac{1}{2} + \\ldots$$"
      ],
      "text/plain": [
       "2⋅sin(x)   2⋅sin(3⋅x)   1    \n",
       "──────── + ────────── + ─ + …\n",
       "   π          3⋅π       2    "
      ]
     },
     "execution_count": 64,
     "metadata": {},
     "output_type": "execute_result"
    }
   ],
   "source": [
    "sp.fourier_series(sp.Heaviside(x))"
   ]
  },
  {
   "cell_type": "code",
   "execution_count": 65,
   "metadata": {},
   "outputs": [
    {
     "data": {
      "image/png": "[encoded data removed]",
      "text/latex": [
       "$$\\frac{2 \\sin{\\left (x \\right )}}{\\pi} + \\frac{2 \\sin{\\left (3 x \\right )}}{3 \\pi} + \\frac{2 \\sin{\\left (5 x \\right )}}{5 \\pi} + \\frac{2 \\sin{\\left (7 x \\right )}}{7 \\pi} + \\frac{2 \\sin{\\left (9 x \\right )}}{9 \\pi} + \\frac{2 \\sin{\\left (11 x \\right )}}{11 \\pi} + \\frac{2 \\sin{\\left (13 x \\right )}}{13 \\pi} + \\frac{2 \\sin{\\left (15 x \\right )}}{15 \\pi} + \\frac{2 \\sin{\\left (17 x \\right )}}{17 \\pi} + \\frac{1}{2}$$"
      ],
      "text/plain": [
       "2⋅sin(x)   2⋅sin(3⋅x)   2⋅sin(5⋅x)   2⋅sin(7⋅x)   2⋅sin(9⋅x)   2⋅sin(11⋅x)   2\n",
       "──────── + ────────── + ────────── + ────────── + ────────── + ─────────── + ─\n",
       "   π          3⋅π          5⋅π          7⋅π          9⋅π           11⋅π       \n",
       "\n",
       "⋅sin(13⋅x)   2⋅sin(15⋅x)   2⋅sin(17⋅x)   1\n",
       "────────── + ─────────── + ─────────── + ─\n",
       "   13⋅π          15⋅π          17⋅π      2"
      ]
     },
     "execution_count": 65,
     "metadata": {},
     "output_type": "execute_result"
    }
   ],
   "source": [
    "sp.fourier_series(sp.Heaviside(x)).truncate(10)"
   ]
  },
  {
   "cell_type": "markdown",
   "metadata": {},
   "source": [
    "### Transformada de Fourier"
   ]
  },
  {
   "cell_type": "code",
   "execution_count": 66,
   "metadata": {},
   "outputs": [
    {
     "data": {
      "image/png": "[encoded data removed]",
      "text/latex": [
       "$$\\delta\\left(- a + x\\right)$$"
      ],
      "text/plain": [
       "δ(-a + x)"
      ]
     },
     "execution_count": 66,
     "metadata": {},
     "output_type": "execute_result"
    }
   ],
   "source": [
    "f = sp.DiracDelta(x-a)\n",
    "f"
   ]
  },
  {
   "cell_type": "code",
   "execution_count": 67,
   "metadata": {},
   "outputs": [
    {
     "data": {
      "image/png": "[encoded data removed]",
      "text/latex": [
       "$$e^{- 2 i \\pi a k}$$"
      ],
      "text/plain": [
       " -2⋅ⅈ⋅π⋅a⋅k\n",
       "ℯ          "
      ]
     },
     "execution_count": 67,
     "metadata": {},
     "output_type": "execute_result"
    }
   ],
   "source": [
    "k = sp.Symbol('k', real=True)\n",
    "sp.fourier_transform(f,x,k)"
   ]
  },
  {
   "cell_type": "code",
   "execution_count": 68,
   "metadata": {},
   "outputs": [
    {
     "data": {
      "image/png": "[encoded data removed]",
      "text/latex": [
       "$$1 + x + \\frac{x^{2}}{2} + \\frac{x^{3}}{6} + \\frac{x^{4}}{24} + \\frac{x^{5}}{120} + O\\left(x^{6}\\right)$$"
      ],
      "text/plain": [
       "         2    3    4     5        \n",
       "        x    x    x     x     ⎛ 6⎞\n",
       "1 + x + ── + ── + ── + ─── + O⎝x ⎠\n",
       "        2    6    24   120        "
      ]
     },
     "execution_count": 68,
     "metadata": {},
     "output_type": "execute_result"
    }
   ],
   "source": [
    "sp.series(sp.exp(x), x)"
   ]
  },
  {
   "cell_type": "markdown",
   "metadata": {},
   "source": [
    "Por defecto, la expansión se realiza en torno a cero ($x=0$), pero podemos también expandir en torno a otro valor, incluyéndolo en los argumentos de la función:"
   ]
  },
  {
   "cell_type": "code",
   "execution_count": 69,
   "metadata": {},
   "outputs": [
    {
     "data": {
      "image/png": "[encoded data removed]",
      "text/latex": [
       "$$e + e \\left(x - 1\\right) + \\frac{e \\left(x - 1\\right)^{2}}{2} + \\frac{e \\left(x - 1\\right)^{3}}{6} + \\frac{e \\left(x - 1\\right)^{4}}{24} + \\frac{e \\left(x - 1\\right)^{5}}{120} + O\\left(\\left(x - 1\\right)^{6}; x\\rightarrow 1\\right)$$"
      ],
      "text/plain": [
       "                         2            3            4            5             \n",
       "                ℯ⋅(x - 1)    ℯ⋅(x - 1)    ℯ⋅(x - 1)    ℯ⋅(x - 1)     ⎛       6\n",
       "ℯ + ℯ⋅(x - 1) + ────────── + ────────── + ────────── + ────────── + O⎝(x - 1) \n",
       "                    2            6            24          120                 \n",
       "\n",
       "        \n",
       "       ⎞\n",
       "; x → 1⎠\n",
       "        "
      ]
     },
     "execution_count": 69,
     "metadata": {},
     "output_type": "execute_result"
    }
   ],
   "source": [
    "sp.series(sp.exp(x), x, 1)"
   ]
  },
  {
   "cell_type": "markdown",
   "metadata": {},
   "source": [
    "Además podemos definir explícitamente el orden hasta el que se realiza la expansión:"
   ]
  },
  {
   "cell_type": "code",
   "execution_count": 70,
   "metadata": {},
   "outputs": [
    {
     "data": {
      "image/png": "[encoded data removed]",
      "text/latex": [
       "$$1 + x + \\frac{x^{2}}{2} + \\frac{x^{3}}{6} + \\frac{x^{4}}{24} + \\frac{x^{5}}{120} + \\frac{x^{6}}{720} + \\frac{x^{7}}{5040} + \\frac{x^{8}}{40320} + \\frac{x^{9}}{362880} + O\\left(x^{10}\\right)$$"
      ],
      "text/plain": [
       "         2    3    4     5     6     7       8       9           \n",
       "        x    x    x     x     x     x       x       x       ⎛ 10⎞\n",
       "1 + x + ── + ── + ── + ─── + ─── + ──── + ───── + ────── + O⎝x  ⎠\n",
       "        2    6    24   120   720   5040   40320   362880         "
      ]
     },
     "execution_count": 70,
     "metadata": {},
     "output_type": "execute_result"
    }
   ],
   "source": [
    "sp.series(sp.exp(x), x, 0, 10)"
   ]
  },
  {
   "cell_type": "markdown",
   "metadata": {},
   "source": [
    "La función `series` define un tipo especial de objeto en SymPy (sympy.core.add.Add) que incluye la información del orden hasta el que se ha realizado la expansión. Esto es útil para llevar el registro de estos órdenes en un cálculo:"
   ]
  },
  {
   "cell_type": "code",
   "execution_count": 71,
   "metadata": {},
   "outputs": [
    {
     "data": {
      "image/png": "[encoded data removed]",
      "text/latex": [
       "$$1 - \\frac{x^{2}}{2} + \\frac{x^{4}}{24} + O\\left(x^{5}\\right)$$"
      ],
      "text/plain": [
       "     2    4        \n",
       "    x    x     ⎛ 5⎞\n",
       "1 - ── + ── + O⎝x ⎠\n",
       "    2    24        "
      ]
     },
     "execution_count": 71,
     "metadata": {},
     "output_type": "execute_result"
    }
   ],
   "source": [
    "s1 = sp.cos(x).series(x, 0, 5)\n",
    "s1"
   ]
  },
  {
   "cell_type": "code",
   "execution_count": 72,
   "metadata": {},
   "outputs": [
    {
     "data": {
      "image/png": "[encoded data removed]",
      "text/latex": [
       "$$x + O\\left(x^{2}\\right)$$"
      ],
      "text/plain": [
       "     ⎛ 2⎞\n",
       "x + O⎝x ⎠"
      ]
     },
     "execution_count": 72,
     "metadata": {},
     "output_type": "execute_result"
    }
   ],
   "source": [
    "s2 = sp.sin(x).series(x, 0, 2)\n",
    "s2"
   ]
  },
  {
   "cell_type": "code",
   "execution_count": 73,
   "metadata": {},
   "outputs": [
    {
     "data": {
      "image/png": "[encoded data removed]",
      "text/latex": [
       "$$x + O\\left(x^{2}\\right)$$"
      ],
      "text/plain": [
       "     ⎛ 2⎞\n",
       "x + O⎝x ⎠"
      ]
     },
     "execution_count": 73,
     "metadata": {},
     "output_type": "execute_result"
    }
   ],
   "source": [
    "sp.expand(s1 * s2)"
   ]
  },
  {
   "cell_type": "markdown",
   "metadata": {},
   "source": [
    "Si queremos eliminar la información del orden de expansión y sólo quedarnos con los términos calculados, podemos usar el método `removeO`:"
   ]
  },
  {
   "cell_type": "code",
   "execution_count": 74,
   "metadata": {},
   "outputs": [
    {
     "data": {
      "image/png": "[encoded data removed]",
      "text/latex": [
       "$$\\frac{x^{4}}{24} - \\frac{x^{2}}{2} + 1$$"
      ],
      "text/plain": [
       " 4    2    \n",
       "x    x     \n",
       "── - ── + 1\n",
       "24   2     "
      ]
     },
     "execution_count": 74,
     "metadata": {},
     "output_type": "execute_result"
    }
   ],
   "source": [
    "s1.removeO()"
   ]
  },
  {
   "cell_type": "markdown",
   "metadata": {},
   "source": [
    "## Funciones especiales\n",
    "\n",
    "Ver [documentación](https://docs.sympy.org/latest/modules/functions/special.html)"
   ]
  },
  {
   "cell_type": "markdown",
   "metadata": {},
   "source": [
    "### Polinomios de Legendre"
   ]
  },
  {
   "cell_type": "code",
   "execution_count": 75,
   "metadata": {},
   "outputs": [
    {
     "data": {
      "image/png": "[encoded data removed]",
      "text/latex": [
       "$$x$$"
      ],
      "text/plain": [
       "x"
      ]
     },
     "execution_count": 75,
     "metadata": {},
     "output_type": "execute_result"
    }
   ],
   "source": [
    "sp.legendre(1,x)"
   ]
  },
  {
   "cell_type": "code",
   "execution_count": 76,
   "metadata": {},
   "outputs": [
    {
     "name": "stdout",
     "output_type": "stream",
     "text": [
      "1\n",
      "x\n",
      "3*x**2/2 - 1/2\n",
      "5*x**3/2 - 3*x/2\n",
      "35*x**4/8 - 15*x**2/4 + 3/8\n",
      "63*x**5/8 - 35*x**3/4 + 15*x/8\n",
      "231*x**6/16 - 315*x**4/16 + 105*x**2/16 - 5/16\n",
      "429*x**7/16 - 693*x**5/16 + 315*x**3/16 - 35*x/16\n",
      "6435*x**8/128 - 3003*x**6/32 + 3465*x**4/64 - 315*x**2/32 + 35/128\n",
      "12155*x**9/128 - 6435*x**7/32 + 9009*x**5/64 - 1155*x**3/32 + 315*x/128\n"
     ]
    }
   ],
   "source": [
    "for n in range(10):\n",
    "    print(sp.legendre(n,x))"
   ]
  },
  {
   "cell_type": "code",
   "execution_count": 77,
   "metadata": {},
   "outputs": [
    {
     "data": {
      "image/png": "[encoded data removed]",
      "text/latex": [
       "$$J_{1}\\left(x\\right)$$"
      ],
      "text/plain": [
       "besselj(1, x)"
      ]
     },
     "execution_count": 77,
     "metadata": {},
     "output_type": "execute_result"
    }
   ],
   "source": [
    "J1 = sp.besselj(1,x)\n",
    "J1"
   ]
  },
  {
   "cell_type": "code",
   "execution_count": 78,
   "metadata": {},
   "outputs": [
    {
     "data": {
      "image/png": "[encoded data removed]",
      "text/latex": [
       "$$\\frac{x}{2} - \\frac{x^{3}}{16} + \\frac{x^{5}}{384} - \\frac{x^{7}}{18432} + \\frac{x^{9}}{1474560} + O\\left(x^{10}\\right)$$"
      ],
      "text/plain": [
       "     3     5      7        9           \n",
       "x   x     x      x        x       ⎛ 10⎞\n",
       "─ - ── + ─── - ───── + ─────── + O⎝x  ⎠\n",
       "2   16   384   18432   1474560         "
      ]
     },
     "execution_count": 78,
     "metadata": {},
     "output_type": "execute_result"
    }
   ],
   "source": [
    "J1.series(x,0,10)"
   ]
  },
  {
   "cell_type": "code",
   "execution_count": 79,
   "metadata": {},
   "outputs": [
    {
     "data": {
      "image/png": "[encoded data removed]",
      "text/latex": [
       "$$\\frac{J_{0}\\left(x\\right)}{2} - \\frac{J_{2}\\left(x\\right)}{2}$$"
      ],
      "text/plain": [
       "besselj(0, x)   besselj(2, x)\n",
       "───────────── - ─────────────\n",
       "      2               2      "
      ]
     },
     "execution_count": 79,
     "metadata": {},
     "output_type": "execute_result"
    }
   ],
   "source": [
    "J1.diff(x)"
   ]
  },
  {
   "cell_type": "code",
   "execution_count": 80,
   "metadata": {},
   "outputs": [
    {
     "data": {
      "application/javascript": [
       "/* Put everything inside the global mpl namespace */\n",
       "window.mpl = {};\n",
       "\n",
       "\n",
       "mpl.get_websocket_type = function() {\n",
       "    if (typeof(WebSocket) !== 'undefined') {\n",
       "        return WebSocket;\n",
       "    } else if (typeof(MozWebSocket) !== 'undefined') {\n",
       "        return MozWebSocket;\n",
       "    } else {\n",
       "        alert('Your browser does not have WebSocket support.' +\n",
       "              'Please try Chrome, Safari or Firefox ≥ 6. ' +\n",
       "              'Firefox 4 and 5 are also supported but you ' +\n",
       "              'have to enable WebSockets in about:config.');\n",
       "    };\n",
       "}\n",
       "\n",
       "mpl.figure = function(figure_id, websocket, ondownload, parent_element) {\n",
       "    this.id = figure_id;\n",
       "\n",
       "    this.ws = websocket;\n",
       "\n",
       "    this.supports_binary = (this.ws.binaryType != undefined);\n",
       "\n",
       "    if (!this.supports_binary) {\n",
       "        var warnings = document.getElementById(\"mpl-warnings\");\n",
       "        if (warnings) {\n",
       "            warnings.style.display = 'block';\n",
       "            warnings.textContent = (\n",
       "                \"This browser does not support binary websocket messages. \" +\n",
       "                    \"Performance may be slow.\");\n",
       "        }\n",
       "    }\n",
       "\n",
       "    this.imageObj = new Image();\n",
       "\n",
       "    this.context = undefined;\n",
       "    this.message = undefined;\n",
       "    this.canvas = undefined;\n",
       "    this.rubberband_canvas = undefined;\n",
       "    this.rubberband_context = undefined;\n",
       "    this.format_dropdown = undefined;\n",
       "\n",
       "    this.image_mode = 'full';\n",
       "\n",
       "    this.root = $('<div/>');\n",
       "    this._root_extra_style(this.root)\n",
       "    this.root.attr('style', 'display: inline-block');\n",
       "\n",
       "    $(parent_element).append(this.root);\n",
       "\n",
       "    this._init_header(this);\n",
       "    this._init_canvas(this);\n",
       "    this._init_toolbar(this);\n",
       "\n",
       "    var fig = this;\n",
       "\n",
       "    this.waiting = false;\n",
       "\n",
       "    this.ws.onopen =  function () {\n",
       "            fig.send_message(\"supports_binary\", {value: fig.supports_binary});\n",
       "            fig.send_message(\"send_image_mode\", {});\n",
       "            if (mpl.ratio != 1) {\n",
       "                fig.send_message(\"set_dpi_ratio\", {'dpi_ratio': mpl.ratio});\n",
       "            }\n",
       "            fig.send_message(\"refresh\", {});\n",
       "        }\n",
       "\n",
       "    this.imageObj.onload = function() {\n",
       "            if (fig.image_mode == 'full') {\n",
       "                // Full images could contain transparency (where diff images\n",
       "                // almost always do), so we need to clear the canvas so that\n",
       "                // there is no ghosting.\n",
       "                fig.context.clearRect(0, 0, fig.canvas.width, fig.canvas.height);\n",
       "            }\n",
       "            fig.context.drawImage(fig.imageObj, 0, 0);\n",
       "        };\n",
       "\n",
       "    this.imageObj.onunload = function() {\n",
       "        fig.ws.close();\n",
       "    }\n",
       "\n",
       "    this.ws.onmessage = this._make_on_message_function(this);\n",
       "\n",
       "    this.ondownload = ondownload;\n",
       "}\n",
       "\n",
       "mpl.figure.prototype._init_header = function() {\n",
       "    var titlebar = $(\n",
       "        '<div class=\"ui-dialog-titlebar ui-widget-header ui-corner-all ' +\n",
       "        'ui-helper-clearfix\"/>');\n",
       "    var titletext = $(\n",
       "        '<div class=\"ui-dialog-title\" style=\"width: 100%; ' +\n",
       "        'text-align: center; padding: 3px;\"/>');\n",
       "    titlebar.append(titletext)\n",
       "    this.root.append(titlebar);\n",
       "    this.header = titletext[0];\n",
       "}\n",
       "\n",
       "\n",
       "\n",
       "mpl.figure.prototype._canvas_extra_style = function(canvas_div) {\n",
       "\n",
       "}\n",
       "\n",
       "\n",
       "mpl.figure.prototype._root_extra_style = function(canvas_div) {\n",
       "\n",
       "}\n",
       "\n",
       "mpl.figure.prototype._init_canvas = function() {\n",
       "    var fig = this;\n",
       "\n",
       "    var canvas_div = $('<div/>');\n",
       "\n",
       "    canvas_div.attr('style', 'position: relative; clear: both; outline: 0');\n",
       "\n",
       "    function canvas_keyboard_event(event) {\n",
       "        return fig.key_event(event, event['data']);\n",
       "    }\n",
       "\n",
       "    canvas_div.keydown('key_press', canvas_keyboard_event);\n",
       "    canvas_div.keyup('key_release', canvas_keyboard_event);\n",
       "    this.canvas_div = canvas_div\n",
       "    this._canvas_extra_style(canvas_div)\n",
       "    this.root.append(canvas_div);\n",
       "\n",
       "    var canvas = $('<canvas/>');\n",
       "    canvas.addClass('mpl-canvas');\n",
       "    canvas.attr('style', \"left: 0; top: 0; z-index: 0; outline: 0\")\n",
       "\n",
       "    this.canvas = canvas[0];\n",
       "    this.context = canvas[0].getContext(\"2d\");\n",
       "\n",
       "    var backingStore = this.context.backingStorePixelRatio ||\n",
       "\tthis.context.webkitBackingStorePixelRatio ||\n",
       "\tthis.context.mozBackingStorePixelRatio ||\n",
       "\tthis.context.msBackingStorePixelRatio ||\n",
       "\tthis.context.oBackingStorePixelRatio ||\n",
       "\tthis.context.backingStorePixelRatio || 1;\n",
       "\n",
       "    mpl.ratio = (window.devicePixelRatio || 1) / backingStore;\n",
       "\n",
       "    var rubberband = $('<canvas/>');\n",
       "    rubberband.attr('style', \"position: absolute; left: 0; top: 0; z-index: 1;\")\n",
       "\n",
       "    var pass_mouse_events = true;\n",
       "\n",
       "    canvas_div.resizable({\n",
       "        start: function(event, ui) {\n",
       "            pass_mouse_events = false;\n",
       "        },\n",
       "        resize: function(event, ui) {\n",
       "            fig.request_resize(ui.size.width, ui.size.height);\n",
       "        },\n",
       "        stop: function(event, ui) {\n",
       "            pass_mouse_events = true;\n",
       "            fig.request_resize(ui.size.width, ui.size.height);\n",
       "        },\n",
       "    });\n",
       "\n",
       "    function mouse_event_fn(event) {\n",
       "        if (pass_mouse_events)\n",
       "            return fig.mouse_event(event, event['data']);\n",
       "    }\n",
       "\n",
       "    rubberband.mousedown('button_press', mouse_event_fn);\n",
       "    rubberband.mouseup('button_release', mouse_event_fn);\n",
       "    // Throttle sequential mouse events to 1 every 20ms.\n",
       "    rubberband.mousemove('motion_notify', mouse_event_fn);\n",
       "\n",
       "    rubberband.mouseenter('figure_enter', mouse_event_fn);\n",
       "    rubberband.mouseleave('figure_leave', mouse_event_fn);\n",
       "\n",
       "    canvas_div.on(\"wheel\", function (event) {\n",
       "        event = event.originalEvent;\n",
       "        event['data'] = 'scroll'\n",
       "        if (event.deltaY < 0) {\n",
       "            event.step = 1;\n",
       "        } else {\n",
       "            event.step = -1;\n",
       "        }\n",
       "        mouse_event_fn(event);\n",
       "    });\n",
       "\n",
       "    canvas_div.append(canvas);\n",
       "    canvas_div.append(rubberband);\n",
       "\n",
       "    this.rubberband = rubberband;\n",
       "    this.rubberband_canvas = rubberband[0];\n",
       "    this.rubberband_context = rubberband[0].getContext(\"2d\");\n",
       "    this.rubberband_context.strokeStyle = \"#000000\";\n",
       "\n",
       "    this._resize_canvas = function(width, height) {\n",
       "        // Keep the size of the canvas, canvas container, and rubber band\n",
       "        // canvas in synch.\n",
       "        canvas_div.css('width', width)\n",
       "        canvas_div.css('height', height)\n",
       "\n",
       "        canvas.attr('width', width * mpl.ratio);\n",
       "        canvas.attr('height', height * mpl.ratio);\n",
       "        canvas.attr('style', 'width: ' + width + 'px; height: ' + height + 'px;');\n",
       "\n",
       "        rubberband.attr('width', width);\n",
       "        rubberband.attr('height', height);\n",
       "    }\n",
       "\n",
       "    // Set the figure to an initial 600x600px, this will subsequently be updated\n",
       "    // upon first draw.\n",
       "    this._resize_canvas(600, 600);\n",
       "\n",
       "    // Disable right mouse context menu.\n",
       "    $(this.rubberband_canvas).bind(\"contextmenu\",function(e){\n",
       "        return false;\n",
       "    });\n",
       "\n",
       "    function set_focus () {\n",
       "        canvas.focus();\n",
       "        canvas_div.focus();\n",
       "    }\n",
       "\n",
       "    window.setTimeout(set_focus, 100);\n",
       "}\n",
       "\n",
       "mpl.figure.prototype._init_toolbar = function() {\n",
       "    var fig = this;\n",
       "\n",
       "    var nav_element = $('<div/>')\n",
       "    nav_element.attr('style', 'width: 100%');\n",
       "    this.root.append(nav_element);\n",
       "\n",
       "    // Define a callback function for later on.\n",
       "    function toolbar_event(event) {\n",
       "        return fig.toolbar_button_onclick(event['data']);\n",
       "    }\n",
       "    function toolbar_mouse_event(event) {\n",
       "        return fig.toolbar_button_onmouseover(event['data']);\n",
       "    }\n",
       "\n",
       "    for(var toolbar_ind in mpl.toolbar_items) {\n",
       "        var name = mpl.toolbar_items[toolbar_ind][0];\n",
       "        var tooltip = mpl.toolbar_items[toolbar_ind][1];\n",
       "        var image = mpl.toolbar_items[toolbar_ind][2];\n",
       "        var method_name = mpl.toolbar_items[toolbar_ind][3];\n",
       "\n",
       "        if (!name) {\n",
       "            // put a spacer in here.\n",
       "            continue;\n",
       "        }\n",
       "        var button = $('<button/>');\n",
       "        button.addClass('ui-button ui-widget ui-state-default ui-corner-all ' +\n",
       "                        'ui-button-icon-only');\n",
       "        button.attr('role', 'button');\n",
       "        button.attr('aria-disabled', 'false');\n",
       "        button.click(method_name, toolbar_event);\n",
       "        button.mouseover(tooltip, toolbar_mouse_event);\n",
       "\n",
       "        var icon_img = $('<span/>');\n",
       "        icon_img.addClass('ui-button-icon-primary ui-icon');\n",
       "        icon_img.addClass(image);\n",
       "        icon_img.addClass('ui-corner-all');\n",
       "\n",
       "        var tooltip_span = $('<span/>');\n",
       "        tooltip_span.addClass('ui-button-text');\n",
       "        tooltip_span.html(tooltip);\n",
       "\n",
       "        button.append(icon_img);\n",
       "        button.append(tooltip_span);\n",
       "\n",
       "        nav_element.append(button);\n",
       "    }\n",
       "\n",
       "    var fmt_picker_span = $('<span/>');\n",
       "\n",
       "    var fmt_picker = $('<select/>');\n",
       "    fmt_picker.addClass('mpl-toolbar-option ui-widget ui-widget-content');\n",
       "    fmt_picker_span.append(fmt_picker);\n",
       "    nav_element.append(fmt_picker_span);\n",
       "    this.format_dropdown = fmt_picker[0];\n",
       "\n",
       "    for (var ind in mpl.extensions) {\n",
       "        var fmt = mpl.extensions[ind];\n",
       "        var option = $(\n",
       "            '<option/>', {selected: fmt === mpl.default_extension}).html(fmt);\n",
       "        fmt_picker.append(option)\n",
       "    }\n",
       "\n",
       "    // Add hover states to the ui-buttons\n",
       "    $( \".ui-button\" ).hover(\n",
       "        function() { $(this).addClass(\"ui-state-hover\");},\n",
       "        function() { $(this).removeClass(\"ui-state-hover\");}\n",
       "    );\n",
       "\n",
       "    var status_bar = $('<span class=\"mpl-message\"/>');\n",
       "    nav_element.append(status_bar);\n",
       "    this.message = status_bar[0];\n",
       "}\n",
       "\n",
       "mpl.figure.prototype.request_resize = function(x_pixels, y_pixels) {\n",
       "    // Request matplotlib to resize the figure. Matplotlib will then trigger a resize in the client,\n",
       "    // which will in turn request a refresh of the image.\n",
       "    this.send_message('resize', {'width': x_pixels, 'height': y_pixels});\n",
       "}\n",
       "\n",
       "mpl.figure.prototype.send_message = function(type, properties) {\n",
       "    properties['type'] = type;\n",
       "    properties['figure_id'] = this.id;\n",
       "    this.ws.send(JSON.stringify(properties));\n",
       "}\n",
       "\n",
       "mpl.figure.prototype.send_draw_message = function() {\n",
       "    if (!this.waiting) {\n",
       "        this.waiting = true;\n",
       "        this.ws.send(JSON.stringify({type: \"draw\", figure_id: this.id}));\n",
       "    }\n",
       "}\n",
       "\n",
       "\n",
       "mpl.figure.prototype.handle_save = function(fig, msg) {\n",
       "    var format_dropdown = fig.format_dropdown;\n",
       "    var format = format_dropdown.options[format_dropdown.selectedIndex].value;\n",
       "    fig.ondownload(fig, format);\n",
       "}\n",
       "\n",
       "\n",
       "mpl.figure.prototype.handle_resize = function(fig, msg) {\n",
       "    var size = msg['size'];\n",
       "    if (size[0] != fig.canvas.width || size[1] != fig.canvas.height) {\n",
       "        fig._resize_canvas(size[0], size[1]);\n",
       "        fig.send_message(\"refresh\", {});\n",
       "    };\n",
       "}\n",
       "\n",
       "mpl.figure.prototype.handle_rubberband = function(fig, msg) {\n",
       "    var x0 = msg['x0'] / mpl.ratio;\n",
       "    var y0 = (fig.canvas.height - msg['y0']) / mpl.ratio;\n",
       "    var x1 = msg['x1'] / mpl.ratio;\n",
       "    var y1 = (fig.canvas.height - msg['y1']) / mpl.ratio;\n",
       "    x0 = Math.floor(x0) + 0.5;\n",
       "    y0 = Math.floor(y0) + 0.5;\n",
       "    x1 = Math.floor(x1) + 0.5;\n",
       "    y1 = Math.floor(y1) + 0.5;\n",
       "    var min_x = Math.min(x0, x1);\n",
       "    var min_y = Math.min(y0, y1);\n",
       "    var width = Math.abs(x1 - x0);\n",
       "    var height = Math.abs(y1 - y0);\n",
       "\n",
       "    fig.rubberband_context.clearRect(\n",
       "        0, 0, fig.canvas.width, fig.canvas.height);\n",
       "\n",
       "    fig.rubberband_context.strokeRect(min_x, min_y, width, height);\n",
       "}\n",
       "\n",
       "mpl.figure.prototype.handle_figure_label = function(fig, msg) {\n",
       "    // Updates the figure title.\n",
       "    fig.header.textContent = msg['label'];\n",
       "}\n",
       "\n",
       "mpl.figure.prototype.handle_cursor = function(fig, msg) {\n",
       "    var cursor = msg['cursor'];\n",
       "    switch(cursor)\n",
       "    {\n",
       "    case 0:\n",
       "        cursor = 'pointer';\n",
       "        break;\n",
       "    case 1:\n",
       "        cursor = 'default';\n",
       "        break;\n",
       "    case 2:\n",
       "        cursor = 'crosshair';\n",
       "        break;\n",
       "    case 3:\n",
       "        cursor = 'move';\n",
       "        break;\n",
       "    }\n",
       "    fig.rubberband_canvas.style.cursor = cursor;\n",
       "}\n",
       "\n",
       "mpl.figure.prototype.handle_message = function(fig, msg) {\n",
       "    fig.message.textContent = msg['message'];\n",
       "}\n",
       "\n",
       "mpl.figure.prototype.handle_draw = function(fig, msg) {\n",
       "    // Request the server to send over a new figure.\n",
       "    fig.send_draw_message();\n",
       "}\n",
       "\n",
       "mpl.figure.prototype.handle_image_mode = function(fig, msg) {\n",
       "    fig.image_mode = msg['mode'];\n",
       "}\n",
       "\n",
       "mpl.figure.prototype.updated_canvas_event = function() {\n",
       "    // Called whenever the canvas gets updated.\n",
       "    this.send_message(\"ack\", {});\n",
       "}\n",
       "\n",
       "// A function to construct a web socket function for onmessage handling.\n",
       "// Called in the figure constructor.\n",
       "mpl.figure.prototype._make_on_message_function = function(fig) {\n",
       "    return function socket_on_message(evt) {\n",
       "        if (evt.data instanceof Blob) {\n",
       "            /* FIXME: We get \"Resource interpreted as Image but\n",
       "             * transferred with MIME type text/plain:\" errors on\n",
       "             * Chrome.  But how to set the MIME type?  It doesn't seem\n",
       "             * to be part of the websocket stream */\n",
       "            evt.data.type = \"image/png\";\n",
       "\n",
       "            /* Free the memory for the previous frames */\n",
       "            if (fig.imageObj.src) {\n",
       "                (window.URL || window.webkitURL).revokeObjectURL(\n",
       "                    fig.imageObj.src);\n",
       "            }\n",
       "\n",
       "            fig.imageObj.src = (window.URL || window.webkitURL).createObjectURL(\n",
       "                evt.data);\n",
       "            fig.updated_canvas_event();\n",
       "            fig.waiting = false;\n",
       "            return;\n",
       "        }\n",
       "        else if (typeof evt.data === 'string' && evt.data.slice(0, 21) == \"data:image/png;base64\") {\n",
       "            fig.imageObj.src = evt.data;\n",
       "            fig.updated_canvas_event();\n",
       "            fig.waiting = false;\n",
       "            return;\n",
       "        }\n",
       "\n",
       "        var msg = JSON.parse(evt.data);\n",
       "        var msg_type = msg['type'];\n",
       "\n",
       "        // Call the  \"handle_{type}\" callback, which takes\n",
       "        // the figure and JSON message as its only arguments.\n",
       "        try {\n",
       "            var callback = fig[\"handle_\" + msg_type];\n",
       "        } catch (e) {\n",
       "            console.log(\"No handler for the '\" + msg_type + \"' message type: \", msg);\n",
       "            return;\n",
       "        }\n",
       "\n",
       "        if (callback) {\n",
       "            try {\n",
       "                // console.log(\"Handling '\" + msg_type + \"' message: \", msg);\n",
       "                callback(fig, msg);\n",
       "            } catch (e) {\n",
       "                console.log(\"Exception inside the 'handler_\" + msg_type + \"' callback:\", e, e.stack, msg);\n",
       "            }\n",
       "        }\n",
       "    };\n",
       "}\n",
       "\n",
       "// from http://stackoverflow.com/questions/1114465/getting-mouse-location-in-canvas\n",
       "mpl.findpos = function(e) {\n",
       "    //this section is from http://www.quirksmode.org/js/events_properties.html\n",
       "    var targ;\n",
       "    if (!e)\n",
       "        e = window.event;\n",
       "    if (e.target)\n",
       "        targ = e.target;\n",
       "    else if (e.srcElement)\n",
       "        targ = e.srcElement;\n",
       "    if (targ.nodeType == 3) // defeat Safari bug\n",
       "        targ = targ.parentNode;\n",
       "\n",
       "    // jQuery normalizes the pageX and pageY\n",
       "    // pageX,Y are the mouse positions relative to the document\n",
       "    // offset() returns the position of the element relative to the document\n",
       "    var x = e.pageX - $(targ).offset().left;\n",
       "    var y = e.pageY - $(targ).offset().top;\n",
       "\n",
       "    return {\"x\": x, \"y\": y};\n",
       "};\n",
       "\n",
       "/*\n",
       " * return a copy of an object with only non-object keys\n",
       " * we need this to avoid circular references\n",
       " * http://stackoverflow.com/a/24161582/3208463\n",
       " */\n",
       "function simpleKeys (original) {\n",
       "  return Object.keys(original).reduce(function (obj, key) {\n",
       "    if (typeof original[key] !== 'object')\n",
       "        obj[key] = original[key]\n",
       "    return obj;\n",
       "  }, {});\n",
       "}\n",
       "\n",
       "mpl.figure.prototype.mouse_event = function(event, name) {\n",
       "    var canvas_pos = mpl.findpos(event)\n",
       "\n",
       "    if (name === 'button_press')\n",
       "    {\n",
       "        this.canvas.focus();\n",
       "        this.canvas_div.focus();\n",
       "    }\n",
       "\n",
       "    var x = canvas_pos.x * mpl.ratio;\n",
       "    var y = canvas_pos.y * mpl.ratio;\n",
       "\n",
       "    this.send_message(name, {x: x, y: y, button: event.button,\n",
       "                             step: event.step,\n",
       "                             guiEvent: simpleKeys(event)});\n",
       "\n",
       "    /* This prevents the web browser from automatically changing to\n",
       "     * the text insertion cursor when the button is pressed.  We want\n",
       "     * to control all of the cursor setting manually through the\n",
       "     * 'cursor' event from matplotlib */\n",
       "    event.preventDefault();\n",
       "    return false;\n",
       "}\n",
       "\n",
       "mpl.figure.prototype._key_event_extra = function(event, name) {\n",
       "    // Handle any extra behaviour associated with a key event\n",
       "}\n",
       "\n",
       "mpl.figure.prototype.key_event = function(event, name) {\n",
       "\n",
       "    // Prevent repeat events\n",
       "    if (name == 'key_press')\n",
       "    {\n",
       "        if (event.which === this._key)\n",
       "            return;\n",
       "        else\n",
       "            this._key = event.which;\n",
       "    }\n",
       "    if (name == 'key_release')\n",
       "        this._key = null;\n",
       "\n",
       "    var value = '';\n",
       "    if (event.ctrlKey && event.which != 17)\n",
       "        value += \"ctrl+\";\n",
       "    if (event.altKey && event.which != 18)\n",
       "        value += \"alt+\";\n",
       "    if (event.shiftKey && event.which != 16)\n",
       "        value += \"shift+\";\n",
       "\n",
       "    value += 'k';\n",
       "    value += event.which.toString();\n",
       "\n",
       "    this._key_event_extra(event, name);\n",
       "\n",
       "    this.send_message(name, {key: value,\n",
       "                             guiEvent: simpleKeys(event)});\n",
       "    return false;\n",
       "}\n",
       "\n",
       "mpl.figure.prototype.toolbar_button_onclick = function(name) {\n",
       "    if (name == 'download') {\n",
       "        this.handle_save(this, null);\n",
       "    } else {\n",
       "        this.send_message(\"toolbar_button\", {name: name});\n",
       "    }\n",
       "};\n",
       "\n",
       "mpl.figure.prototype.toolbar_button_onmouseover = function(tooltip) {\n",
       "    this.message.textContent = tooltip;\n",
       "};\n",
       "mpl.toolbar_items = [[\"Home\", \"Reset original view\", \"fa fa-home icon-home\", \"home\"], [\"Back\", \"Back to  previous view\", \"fa fa-arrow-left icon-arrow-left\", \"back\"], [\"Forward\", \"Forward to next view\", \"fa fa-arrow-right icon-arrow-right\", \"forward\"], [\"\", \"\", \"\", \"\"], [\"Pan\", \"Pan axes with left mouse, zoom with right\", \"fa fa-arrows icon-move\", \"pan\"], [\"Zoom\", \"Zoom to rectangle\", \"fa fa-square-o icon-check-empty\", \"zoom\"], [\"\", \"\", \"\", \"\"], [\"Download\", \"Download plot\", \"fa fa-floppy-o icon-save\", \"download\"]];\n",
       "\n",
       "mpl.extensions = [\"eps\", \"pdf\", \"png\", \"ps\", \"raw\", \"svg\"];\n",
       "\n",
       "mpl.default_extension = \"png\";var comm_websocket_adapter = function(comm) {\n",
       "    // Create a \"websocket\"-like object which calls the given IPython comm\n",
       "    // object with the appropriate methods. Currently this is a non binary\n",
       "    // socket, so there is still some room for performance tuning.\n",
       "    var ws = {};\n",
       "\n",
       "    ws.close = function() {\n",
       "        comm.close()\n",
       "    };\n",
       "    ws.send = function(m) {\n",
       "        //console.log('sending', m);\n",
       "        comm.send(m);\n",
       "    };\n",
       "    // Register the callback with on_msg.\n",
       "    comm.on_msg(function(msg) {\n",
       "        //console.log('receiving', msg['content']['data'], msg);\n",
       "        // Pass the mpl event to the overridden (by mpl) onmessage function.\n",
       "        ws.onmessage(msg['content']['data'])\n",
       "    });\n",
       "    return ws;\n",
       "}\n",
       "\n",
       "mpl.mpl_figure_comm = function(comm, msg) {\n",
       "    // This is the function which gets called when the mpl process\n",
       "    // starts-up an IPython Comm through the \"matplotlib\" channel.\n",
       "\n",
       "    var id = msg.content.data.id;\n",
       "    // Get hold of the div created by the display call when the Comm\n",
       "    // socket was opened in Python.\n",
       "    var element = $(\"#\" + id);\n",
       "    var ws_proxy = comm_websocket_adapter(comm)\n",
       "\n",
       "    function ondownload(figure, format) {\n",
       "        window.open(figure.imageObj.src);\n",
       "    }\n",
       "\n",
       "    var fig = new mpl.figure(id, ws_proxy,\n",
       "                           ondownload,\n",
       "                           element.get(0));\n",
       "\n",
       "    // Call onopen now - mpl needs it, as it is assuming we've passed it a real\n",
       "    // web socket which is closed, not our websocket->open comm proxy.\n",
       "    ws_proxy.onopen();\n",
       "\n",
       "    fig.parent_element = element.get(0);\n",
       "    fig.cell_info = mpl.find_output_cell(\"<div id='\" + id + \"'></div>\");\n",
       "    if (!fig.cell_info) {\n",
       "        console.error(\"Failed to find cell for figure\", id, fig);\n",
       "        return;\n",
       "    }\n",
       "\n",
       "    var output_index = fig.cell_info[2]\n",
       "    var cell = fig.cell_info[0];\n",
       "\n",
       "};\n",
       "\n",
       "mpl.figure.prototype.handle_close = function(fig, msg) {\n",
       "    var width = fig.canvas.width/mpl.ratio\n",
       "    fig.root.unbind('remove')\n",
       "\n",
       "    // Update the output cell to use the data from the current canvas.\n",
       "    fig.push_to_output();\n",
       "    var dataURL = fig.canvas.toDataURL();\n",
       "    // Re-enable the keyboard manager in IPython - without this line, in FF,\n",
       "    // the notebook keyboard shortcuts fail.\n",
       "    IPython.keyboard_manager.enable()\n",
       "    $(fig.parent_element).html('<img src=\"' + dataURL + '\" width=\"' + width + '\">');\n",
       "    fig.close_ws(fig, msg);\n",
       "}\n",
       "\n",
       "mpl.figure.prototype.close_ws = function(fig, msg){\n",
       "    fig.send_message('closing', msg);\n",
       "    // fig.ws.close()\n",
       "}\n",
       "\n",
       "mpl.figure.prototype.push_to_output = function(remove_interactive) {\n",
       "    // Turn the data on the canvas into data in the output cell.\n",
       "    var width = this.canvas.width/mpl.ratio\n",
       "    var dataURL = this.canvas.toDataURL();\n",
       "    this.cell_info[1]['text/html'] = '<img src=\"' + dataURL + '\" width=\"' + width + '\">';\n",
       "}\n",
       "\n",
       "mpl.figure.prototype.updated_canvas_event = function() {\n",
       "    // Tell IPython that the notebook contents must change.\n",
       "    IPython.notebook.set_dirty(true);\n",
       "    this.send_message(\"ack\", {});\n",
       "    var fig = this;\n",
       "    // Wait a second, then push the new image to the DOM so\n",
       "    // that it is saved nicely (might be nice to debounce this).\n",
       "    setTimeout(function () { fig.push_to_output() }, 1000);\n",
       "}\n",
       "\n",
       "mpl.figure.prototype._init_toolbar = function() {\n",
       "    var fig = this;\n",
       "\n",
       "    var nav_element = $('<div/>')\n",
       "    nav_element.attr('style', 'width: 100%');\n",
       "    this.root.append(nav_element);\n",
       "\n",
       "    // Define a callback function for later on.\n",
       "    function toolbar_event(event) {\n",
       "        return fig.toolbar_button_onclick(event['data']);\n",
       "    }\n",
       "    function toolbar_mouse_event(event) {\n",
       "        return fig.toolbar_button_onmouseover(event['data']);\n",
       "    }\n",
       "\n",
       "    for(var toolbar_ind in mpl.toolbar_items){\n",
       "        var name = mpl.toolbar_items[toolbar_ind][0];\n",
       "        var tooltip = mpl.toolbar_items[toolbar_ind][1];\n",
       "        var image = mpl.toolbar_items[toolbar_ind][2];\n",
       "        var method_name = mpl.toolbar_items[toolbar_ind][3];\n",
       "\n",
       "        if (!name) { continue; };\n",
       "\n",
       "        var button = $('<button class=\"btn btn-default\" href=\"#\" title=\"' + name + '\"><i class=\"fa ' + image + ' fa-lg\"></i></button>');\n",
       "        button.click(method_name, toolbar_event);\n",
       "        button.mouseover(tooltip, toolbar_mouse_event);\n",
       "        nav_element.append(button);\n",
       "    }\n",
       "\n",
       "    // Add the status bar.\n",
       "    var status_bar = $('<span class=\"mpl-message\" style=\"text-align:right; float: right;\"/>');\n",
       "    nav_element.append(status_bar);\n",
       "    this.message = status_bar[0];\n",
       "\n",
       "    // Add the close button to the window.\n",
       "    var buttongrp = $('<div class=\"btn-group inline pull-right\"></div>');\n",
       "    var button = $('<button class=\"btn btn-mini btn-primary\" href=\"#\" title=\"Stop Interaction\"><i class=\"fa fa-power-off icon-remove icon-large\"></i></button>');\n",
       "    button.click(function (evt) { fig.handle_close(fig, {}); } );\n",
       "    button.mouseover('Stop Interaction', toolbar_mouse_event);\n",
       "    buttongrp.append(button);\n",
       "    var titlebar = this.root.find($('.ui-dialog-titlebar'));\n",
       "    titlebar.prepend(buttongrp);\n",
       "}\n",
       "\n",
       "mpl.figure.prototype._root_extra_style = function(el){\n",
       "    var fig = this\n",
       "    el.on(\"remove\", function(){\n",
       "\tfig.close_ws(fig, {});\n",
       "    });\n",
       "}\n",
       "\n",
       "mpl.figure.prototype._canvas_extra_style = function(el){\n",
       "    // this is important to make the div 'focusable\n",
       "    el.attr('tabindex', 0)\n",
       "    // reach out to IPython and tell the keyboard manager to turn it's self\n",
       "    // off when our div gets focus\n",
       "\n",
       "    // location in version 3\n",
       "    if (IPython.notebook.keyboard_manager) {\n",
       "        IPython.notebook.keyboard_manager.register_events(el);\n",
       "    }\n",
       "    else {\n",
       "        // location in version 2\n",
       "        IPython.keyboard_manager.register_events(el);\n",
       "    }\n",
       "\n",
       "}\n",
       "\n",
       "mpl.figure.prototype._key_event_extra = function(event, name) {\n",
       "    var manager = IPython.notebook.keyboard_manager;\n",
       "    if (!manager)\n",
       "        manager = IPython.keyboard_manager;\n",
       "\n",
       "    // Check for shift+enter\n",
       "    if (event.shiftKey && event.which == 13) {\n",
       "        this.canvas_div.blur();\n",
       "        event.shiftKey = false;\n",
       "        // Send a \"J\" for go to next cell\n",
       "        event.which = 74;\n",
       "        event.keyCode = 74;\n",
       "        manager.command_mode();\n",
       "        manager.handle_keydown(event);\n",
       "    }\n",
       "}\n",
       "\n",
       "mpl.figure.prototype.handle_save = function(fig, msg) {\n",
       "    fig.ondownload(fig, null);\n",
       "}\n",
       "\n",
       "\n",
       "mpl.find_output_cell = function(html_output) {\n",
       "    // Return the cell and output element which can be found *uniquely* in the notebook.\n",
       "    // Note - this is a bit hacky, but it is done because the \"notebook_saving.Notebook\"\n",
       "    // IPython event is triggered only after the cells have been serialised, which for\n",
       "    // our purposes (turning an active figure into a static one), is too late.\n",
       "    var cells = IPython.notebook.get_cells();\n",
       "    var ncells = cells.length;\n",
       "    for (var i=0; i<ncells; i++) {\n",
       "        var cell = cells[i];\n",
       "        if (cell.cell_type === 'code'){\n",
       "            for (var j=0; j<cell.output_area.outputs.length; j++) {\n",
       "                var data = cell.output_area.outputs[j];\n",
       "                if (data.data) {\n",
       "                    // IPython >= 3 moved mimebundle to data attribute of output\n",
       "                    data = data.data;\n",
       "                }\n",
       "                if (data['text/html'] == html_output) {\n",
       "                    return [cell, data, j];\n",
       "                }\n",
       "            }\n",
       "        }\n",
       "    }\n",
       "}\n",
       "\n",
       "// Register the function which deals with the matplotlib target/channel.\n",
       "// The kernel may be null if the page has been refreshed.\n",
       "if (IPython.notebook.kernel != null) {\n",
       "    IPython.notebook.kernel.comm_manager.register_target('matplotlib', mpl.mpl_figure_comm);\n",
       "}\n"
      ],
      "text/plain": [
       "<IPython.core.display.Javascript object>"
      ]
     },
     "metadata": {},
     "output_type": "display_data"
    },
    {
     "data": {
      "text/html": [
       "<img src=\"data:image/png;base64,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\" width=\"640\">"
      ],
      "text/plain": [
       "<IPython.core.display.HTML object>"
      ]
     },
     "metadata": {},
     "output_type": "display_data"
    },
    {
     "data": {
      "text/plain": [
       "<sympy.plotting.plot.Plot at 0x7f3d9aa455c0>"
      ]
     },
     "execution_count": 80,
     "metadata": {},
     "output_type": "execute_result"
    }
   ],
   "source": [
    "sp.plot(J1)"
   ]
  },
  {
   "cell_type": "code",
   "execution_count": 81,
   "metadata": {},
   "outputs": [],
   "source": [
    "th, ph = sp.symbols('theta, varphi', real=True, positive=True)"
   ]
  },
  {
   "cell_type": "code",
   "execution_count": 82,
   "metadata": {},
   "outputs": [
    {
     "data": {
      "image/png": "[encoded data removed]",
      "text/latex": [
       "$$Y_{1}^{1}\\left(\\theta,\\varphi\\right)$$"
      ],
      "text/plain": [
       "Ynm(1, 1, θ, varphi)"
      ]
     },
     "execution_count": 82,
     "metadata": {},
     "output_type": "execute_result"
    }
   ],
   "source": [
    "sp.Ynm(1,1,th,ph)"
   ]
  },
  {
   "cell_type": "code",
   "execution_count": 83,
   "metadata": {},
   "outputs": [
    {
     "data": {
      "image/png": "[encoded data removed]",
      "text/latex": [
       "$$e^{- 2 i \\varphi} Y_{1}^{1}\\left(\\theta,\\varphi\\right)$$"
      ],
      "text/plain": [
       " -2⋅ⅈ⋅varphi                     \n",
       "ℯ           ⋅Ynm(1, 1, θ, varphi)"
      ]
     },
     "execution_count": 83,
     "metadata": {},
     "output_type": "execute_result"
    }
   ],
   "source": [
    "sp.Ynm(1,1,th,-ph)"
   ]
  },
  {
   "cell_type": "code",
   "execution_count": 84,
   "metadata": {},
   "outputs": [
    {
     "data": {
      "image/png": "[encoded data removed]",
      "text/latex": [
       "$$- \\frac{\\sqrt{6} e^{i \\varphi} \\sin{\\left (\\theta \\right )}}{4 \\sqrt{\\pi}}$$"
      ],
      "text/plain": [
       "     ⅈ⋅varphi        \n",
       "-√6⋅ℯ        ⋅sin(θ) \n",
       "─────────────────────\n",
       "         4⋅√π        "
      ]
     },
     "execution_count": 84,
     "metadata": {},
     "output_type": "execute_result"
    }
   ],
   "source": [
    "sp.Ynm(1,1,th,ph).expand(func=True)"
   ]
  },
  {
   "cell_type": "code",
   "execution_count": 85,
   "metadata": {},
   "outputs": [
    {
     "data": {
      "image/png": "[encoded data removed]",
      "text/latex": [
       "$$\\theta\\left(x\\right)$$"
      ],
      "text/plain": [
       "Heaviside(x)"
      ]
     },
     "execution_count": 85,
     "metadata": {},
     "output_type": "execute_result"
    }
   ],
   "source": [
    "H = sp.Heaviside(x)\n",
    "H"
   ]
  },
  {
   "cell_type": "code",
   "execution_count": 86,
   "metadata": {
    "scrolled": true
   },
   "outputs": [
    {
     "data": {
      "application/javascript": [
       "/* Put everything inside the global mpl namespace */\n",
       "window.mpl = {};\n",
       "\n",
       "\n",
       "mpl.get_websocket_type = function() {\n",
       "    if (typeof(WebSocket) !== 'undefined') {\n",
       "        return WebSocket;\n",
       "    } else if (typeof(MozWebSocket) !== 'undefined') {\n",
       "        return MozWebSocket;\n",
       "    } else {\n",
       "        alert('Your browser does not have WebSocket support.' +\n",
       "              'Please try Chrome, Safari or Firefox ≥ 6. ' +\n",
       "              'Firefox 4 and 5 are also supported but you ' +\n",
       "              'have to enable WebSockets in about:config.');\n",
       "    };\n",
       "}\n",
       "\n",
       "mpl.figure = function(figure_id, websocket, ondownload, parent_element) {\n",
       "    this.id = figure_id;\n",
       "\n",
       "    this.ws = websocket;\n",
       "\n",
       "    this.supports_binary = (this.ws.binaryType != undefined);\n",
       "\n",
       "    if (!this.supports_binary) {\n",
       "        var warnings = document.getElementById(\"mpl-warnings\");\n",
       "        if (warnings) {\n",
       "            warnings.style.display = 'block';\n",
       "            warnings.textContent = (\n",
       "                \"This browser does not support binary websocket messages. \" +\n",
       "                    \"Performance may be slow.\");\n",
       "        }\n",
       "    }\n",
       "\n",
       "    this.imageObj = new Image();\n",
       "\n",
       "    this.context = undefined;\n",
       "    this.message = undefined;\n",
       "    this.canvas = undefined;\n",
       "    this.rubberband_canvas = undefined;\n",
       "    this.rubberband_context = undefined;\n",
       "    this.format_dropdown = undefined;\n",
       "\n",
       "    this.image_mode = 'full';\n",
       "\n",
       "    this.root = $('<div/>');\n",
       "    this._root_extra_style(this.root)\n",
       "    this.root.attr('style', 'display: inline-block');\n",
       "\n",
       "    $(parent_element).append(this.root);\n",
       "\n",
       "    this._init_header(this);\n",
       "    this._init_canvas(this);\n",
       "    this._init_toolbar(this);\n",
       "\n",
       "    var fig = this;\n",
       "\n",
       "    this.waiting = false;\n",
       "\n",
       "    this.ws.onopen =  function () {\n",
       "            fig.send_message(\"supports_binary\", {value: fig.supports_binary});\n",
       "            fig.send_message(\"send_image_mode\", {});\n",
       "            if (mpl.ratio != 1) {\n",
       "                fig.send_message(\"set_dpi_ratio\", {'dpi_ratio': mpl.ratio});\n",
       "            }\n",
       "            fig.send_message(\"refresh\", {});\n",
       "        }\n",
       "\n",
       "    this.imageObj.onload = function() {\n",
       "            if (fig.image_mode == 'full') {\n",
       "                // Full images could contain transparency (where diff images\n",
       "                // almost always do), so we need to clear the canvas so that\n",
       "                // there is no ghosting.\n",
       "                fig.context.clearRect(0, 0, fig.canvas.width, fig.canvas.height);\n",
       "            }\n",
       "            fig.context.drawImage(fig.imageObj, 0, 0);\n",
       "        };\n",
       "\n",
       "    this.imageObj.onunload = function() {\n",
       "        fig.ws.close();\n",
       "    }\n",
       "\n",
       "    this.ws.onmessage = this._make_on_message_function(this);\n",
       "\n",
       "    this.ondownload = ondownload;\n",
       "}\n",
       "\n",
       "mpl.figure.prototype._init_header = function() {\n",
       "    var titlebar = $(\n",
       "        '<div class=\"ui-dialog-titlebar ui-widget-header ui-corner-all ' +\n",
       "        'ui-helper-clearfix\"/>');\n",
       "    var titletext = $(\n",
       "        '<div class=\"ui-dialog-title\" style=\"width: 100%; ' +\n",
       "        'text-align: center; padding: 3px;\"/>');\n",
       "    titlebar.append(titletext)\n",
       "    this.root.append(titlebar);\n",
       "    this.header = titletext[0];\n",
       "}\n",
       "\n",
       "\n",
       "\n",
       "mpl.figure.prototype._canvas_extra_style = function(canvas_div) {\n",
       "\n",
       "}\n",
       "\n",
       "\n",
       "mpl.figure.prototype._root_extra_style = function(canvas_div) {\n",
       "\n",
       "}\n",
       "\n",
       "mpl.figure.prototype._init_canvas = function() {\n",
       "    var fig = this;\n",
       "\n",
       "    var canvas_div = $('<div/>');\n",
       "\n",
       "    canvas_div.attr('style', 'position: relative; clear: both; outline: 0');\n",
       "\n",
       "    function canvas_keyboard_event(event) {\n",
       "        return fig.key_event(event, event['data']);\n",
       "    }\n",
       "\n",
       "    canvas_div.keydown('key_press', canvas_keyboard_event);\n",
       "    canvas_div.keyup('key_release', canvas_keyboard_event);\n",
       "    this.canvas_div = canvas_div\n",
       "    this._canvas_extra_style(canvas_div)\n",
       "    this.root.append(canvas_div);\n",
       "\n",
       "    var canvas = $('<canvas/>');\n",
       "    canvas.addClass('mpl-canvas');\n",
       "    canvas.attr('style', \"left: 0; top: 0; z-index: 0; outline: 0\")\n",
       "\n",
       "    this.canvas = canvas[0];\n",
       "    this.context = canvas[0].getContext(\"2d\");\n",
       "\n",
       "    var backingStore = this.context.backingStorePixelRatio ||\n",
       "\tthis.context.webkitBackingStorePixelRatio ||\n",
       "\tthis.context.mozBackingStorePixelRatio ||\n",
       "\tthis.context.msBackingStorePixelRatio ||\n",
       "\tthis.context.oBackingStorePixelRatio ||\n",
       "\tthis.context.backingStorePixelRatio || 1;\n",
       "\n",
       "    mpl.ratio = (window.devicePixelRatio || 1) / backingStore;\n",
       "\n",
       "    var rubberband = $('<canvas/>');\n",
       "    rubberband.attr('style', \"position: absolute; left: 0; top: 0; z-index: 1;\")\n",
       "\n",
       "    var pass_mouse_events = true;\n",
       "\n",
       "    canvas_div.resizable({\n",
       "        start: function(event, ui) {\n",
       "            pass_mouse_events = false;\n",
       "        },\n",
       "        resize: function(event, ui) {\n",
       "            fig.request_resize(ui.size.width, ui.size.height);\n",
       "        },\n",
       "        stop: function(event, ui) {\n",
       "            pass_mouse_events = true;\n",
       "            fig.request_resize(ui.size.width, ui.size.height);\n",
       "        },\n",
       "    });\n",
       "\n",
       "    function mouse_event_fn(event) {\n",
       "        if (pass_mouse_events)\n",
       "            return fig.mouse_event(event, event['data']);\n",
       "    }\n",
       "\n",
       "    rubberband.mousedown('button_press', mouse_event_fn);\n",
       "    rubberband.mouseup('button_release', mouse_event_fn);\n",
       "    // Throttle sequential mouse events to 1 every 20ms.\n",
       "    rubberband.mousemove('motion_notify', mouse_event_fn);\n",
       "\n",
       "    rubberband.mouseenter('figure_enter', mouse_event_fn);\n",
       "    rubberband.mouseleave('figure_leave', mouse_event_fn);\n",
       "\n",
       "    canvas_div.on(\"wheel\", function (event) {\n",
       "        event = event.originalEvent;\n",
       "        event['data'] = 'scroll'\n",
       "        if (event.deltaY < 0) {\n",
       "            event.step = 1;\n",
       "        } else {\n",
       "            event.step = -1;\n",
       "        }\n",
       "        mouse_event_fn(event);\n",
       "    });\n",
       "\n",
       "    canvas_div.append(canvas);\n",
       "    canvas_div.append(rubberband);\n",
       "\n",
       "    this.rubberband = rubberband;\n",
       "    this.rubberband_canvas = rubberband[0];\n",
       "    this.rubberband_context = rubberband[0].getContext(\"2d\");\n",
       "    this.rubberband_context.strokeStyle = \"#000000\";\n",
       "\n",
       "    this._resize_canvas = function(width, height) {\n",
       "        // Keep the size of the canvas, canvas container, and rubber band\n",
       "        // canvas in synch.\n",
       "        canvas_div.css('width', width)\n",
       "        canvas_div.css('height', height)\n",
       "\n",
       "        canvas.attr('width', width * mpl.ratio);\n",
       "        canvas.attr('height', height * mpl.ratio);\n",
       "        canvas.attr('style', 'width: ' + width + 'px; height: ' + height + 'px;');\n",
       "\n",
       "        rubberband.attr('width', width);\n",
       "        rubberband.attr('height', height);\n",
       "    }\n",
       "\n",
       "    // Set the figure to an initial 600x600px, this will subsequently be updated\n",
       "    // upon first draw.\n",
       "    this._resize_canvas(600, 600);\n",
       "\n",
       "    // Disable right mouse context menu.\n",
       "    $(this.rubberband_canvas).bind(\"contextmenu\",function(e){\n",
       "        return false;\n",
       "    });\n",
       "\n",
       "    function set_focus () {\n",
       "        canvas.focus();\n",
       "        canvas_div.focus();\n",
       "    }\n",
       "\n",
       "    window.setTimeout(set_focus, 100);\n",
       "}\n",
       "\n",
       "mpl.figure.prototype._init_toolbar = function() {\n",
       "    var fig = this;\n",
       "\n",
       "    var nav_element = $('<div/>')\n",
       "    nav_element.attr('style', 'width: 100%');\n",
       "    this.root.append(nav_element);\n",
       "\n",
       "    // Define a callback function for later on.\n",
       "    function toolbar_event(event) {\n",
       "        return fig.toolbar_button_onclick(event['data']);\n",
       "    }\n",
       "    function toolbar_mouse_event(event) {\n",
       "        return fig.toolbar_button_onmouseover(event['data']);\n",
       "    }\n",
       "\n",
       "    for(var toolbar_ind in mpl.toolbar_items) {\n",
       "        var name = mpl.toolbar_items[toolbar_ind][0];\n",
       "        var tooltip = mpl.toolbar_items[toolbar_ind][1];\n",
       "        var image = mpl.toolbar_items[toolbar_ind][2];\n",
       "        var method_name = mpl.toolbar_items[toolbar_ind][3];\n",
       "\n",
       "        if (!name) {\n",
       "            // put a spacer in here.\n",
       "            continue;\n",
       "        }\n",
       "        var button = $('<button/>');\n",
       "        button.addClass('ui-button ui-widget ui-state-default ui-corner-all ' +\n",
       "                        'ui-button-icon-only');\n",
       "        button.attr('role', 'button');\n",
       "        button.attr('aria-disabled', 'false');\n",
       "        button.click(method_name, toolbar_event);\n",
       "        button.mouseover(tooltip, toolbar_mouse_event);\n",
       "\n",
       "        var icon_img = $('<span/>');\n",
       "        icon_img.addClass('ui-button-icon-primary ui-icon');\n",
       "        icon_img.addClass(image);\n",
       "        icon_img.addClass('ui-corner-all');\n",
       "\n",
       "        var tooltip_span = $('<span/>');\n",
       "        tooltip_span.addClass('ui-button-text');\n",
       "        tooltip_span.html(tooltip);\n",
       "\n",
       "        button.append(icon_img);\n",
       "        button.append(tooltip_span);\n",
       "\n",
       "        nav_element.append(button);\n",
       "    }\n",
       "\n",
       "    var fmt_picker_span = $('<span/>');\n",
       "\n",
       "    var fmt_picker = $('<select/>');\n",
       "    fmt_picker.addClass('mpl-toolbar-option ui-widget ui-widget-content');\n",
       "    fmt_picker_span.append(fmt_picker);\n",
       "    nav_element.append(fmt_picker_span);\n",
       "    this.format_dropdown = fmt_picker[0];\n",
       "\n",
       "    for (var ind in mpl.extensions) {\n",
       "        var fmt = mpl.extensions[ind];\n",
       "        var option = $(\n",
       "            '<option/>', {selected: fmt === mpl.default_extension}).html(fmt);\n",
       "        fmt_picker.append(option)\n",
       "    }\n",
       "\n",
       "    // Add hover states to the ui-buttons\n",
       "    $( \".ui-button\" ).hover(\n",
       "        function() { $(this).addClass(\"ui-state-hover\");},\n",
       "        function() { $(this).removeClass(\"ui-state-hover\");}\n",
       "    );\n",
       "\n",
       "    var status_bar = $('<span class=\"mpl-message\"/>');\n",
       "    nav_element.append(status_bar);\n",
       "    this.message = status_bar[0];\n",
       "}\n",
       "\n",
       "mpl.figure.prototype.request_resize = function(x_pixels, y_pixels) {\n",
       "    // Request matplotlib to resize the figure. Matplotlib will then trigger a resize in the client,\n",
       "    // which will in turn request a refresh of the image.\n",
       "    this.send_message('resize', {'width': x_pixels, 'height': y_pixels});\n",
       "}\n",
       "\n",
       "mpl.figure.prototype.send_message = function(type, properties) {\n",
       "    properties['type'] = type;\n",
       "    properties['figure_id'] = this.id;\n",
       "    this.ws.send(JSON.stringify(properties));\n",
       "}\n",
       "\n",
       "mpl.figure.prototype.send_draw_message = function() {\n",
       "    if (!this.waiting) {\n",
       "        this.waiting = true;\n",
       "        this.ws.send(JSON.stringify({type: \"draw\", figure_id: this.id}));\n",
       "    }\n",
       "}\n",
       "\n",
       "\n",
       "mpl.figure.prototype.handle_save = function(fig, msg) {\n",
       "    var format_dropdown = fig.format_dropdown;\n",
       "    var format = format_dropdown.options[format_dropdown.selectedIndex].value;\n",
       "    fig.ondownload(fig, format);\n",
       "}\n",
       "\n",
       "\n",
       "mpl.figure.prototype.handle_resize = function(fig, msg) {\n",
       "    var size = msg['size'];\n",
       "    if (size[0] != fig.canvas.width || size[1] != fig.canvas.height) {\n",
       "        fig._resize_canvas(size[0], size[1]);\n",
       "        fig.send_message(\"refresh\", {});\n",
       "    };\n",
       "}\n",
       "\n",
       "mpl.figure.prototype.handle_rubberband = function(fig, msg) {\n",
       "    var x0 = msg['x0'] / mpl.ratio;\n",
       "    var y0 = (fig.canvas.height - msg['y0']) / mpl.ratio;\n",
       "    var x1 = msg['x1'] / mpl.ratio;\n",
       "    var y1 = (fig.canvas.height - msg['y1']) / mpl.ratio;\n",
       "    x0 = Math.floor(x0) + 0.5;\n",
       "    y0 = Math.floor(y0) + 0.5;\n",
       "    x1 = Math.floor(x1) + 0.5;\n",
       "    y1 = Math.floor(y1) + 0.5;\n",
       "    var min_x = Math.min(x0, x1);\n",
       "    var min_y = Math.min(y0, y1);\n",
       "    var width = Math.abs(x1 - x0);\n",
       "    var height = Math.abs(y1 - y0);\n",
       "\n",
       "    fig.rubberband_context.clearRect(\n",
       "        0, 0, fig.canvas.width, fig.canvas.height);\n",
       "\n",
       "    fig.rubberband_context.strokeRect(min_x, min_y, width, height);\n",
       "}\n",
       "\n",
       "mpl.figure.prototype.handle_figure_label = function(fig, msg) {\n",
       "    // Updates the figure title.\n",
       "    fig.header.textContent = msg['label'];\n",
       "}\n",
       "\n",
       "mpl.figure.prototype.handle_cursor = function(fig, msg) {\n",
       "    var cursor = msg['cursor'];\n",
       "    switch(cursor)\n",
       "    {\n",
       "    case 0:\n",
       "        cursor = 'pointer';\n",
       "        break;\n",
       "    case 1:\n",
       "        cursor = 'default';\n",
       "        break;\n",
       "    case 2:\n",
       "        cursor = 'crosshair';\n",
       "        break;\n",
       "    case 3:\n",
       "        cursor = 'move';\n",
       "        break;\n",
       "    }\n",
       "    fig.rubberband_canvas.style.cursor = cursor;\n",
       "}\n",
       "\n",
       "mpl.figure.prototype.handle_message = function(fig, msg) {\n",
       "    fig.message.textContent = msg['message'];\n",
       "}\n",
       "\n",
       "mpl.figure.prototype.handle_draw = function(fig, msg) {\n",
       "    // Request the server to send over a new figure.\n",
       "    fig.send_draw_message();\n",
       "}\n",
       "\n",
       "mpl.figure.prototype.handle_image_mode = function(fig, msg) {\n",
       "    fig.image_mode = msg['mode'];\n",
       "}\n",
       "\n",
       "mpl.figure.prototype.updated_canvas_event = function() {\n",
       "    // Called whenever the canvas gets updated.\n",
       "    this.send_message(\"ack\", {});\n",
       "}\n",
       "\n",
       "// A function to construct a web socket function for onmessage handling.\n",
       "// Called in the figure constructor.\n",
       "mpl.figure.prototype._make_on_message_function = function(fig) {\n",
       "    return function socket_on_message(evt) {\n",
       "        if (evt.data instanceof Blob) {\n",
       "            /* FIXME: We get \"Resource interpreted as Image but\n",
       "             * transferred with MIME type text/plain:\" errors on\n",
       "             * Chrome.  But how to set the MIME type?  It doesn't seem\n",
       "             * to be part of the websocket stream */\n",
       "            evt.data.type = \"image/png\";\n",
       "\n",
       "            /* Free the memory for the previous frames */\n",
       "            if (fig.imageObj.src) {\n",
       "                (window.URL || window.webkitURL).revokeObjectURL(\n",
       "                    fig.imageObj.src);\n",
       "            }\n",
       "\n",
       "            fig.imageObj.src = (window.URL || window.webkitURL).createObjectURL(\n",
       "                evt.data);\n",
       "            fig.updated_canvas_event();\n",
       "            fig.waiting = false;\n",
       "            return;\n",
       "        }\n",
       "        else if (typeof evt.data === 'string' && evt.data.slice(0, 21) == \"data:image/png;base64\") {\n",
       "            fig.imageObj.src = evt.data;\n",
       "            fig.updated_canvas_event();\n",
       "            fig.waiting = false;\n",
       "            return;\n",
       "        }\n",
       "\n",
       "        var msg = JSON.parse(evt.data);\n",
       "        var msg_type = msg['type'];\n",
       "\n",
       "        // Call the  \"handle_{type}\" callback, which takes\n",
       "        // the figure and JSON message as its only arguments.\n",
       "        try {\n",
       "            var callback = fig[\"handle_\" + msg_type];\n",
       "        } catch (e) {\n",
       "            console.log(\"No handler for the '\" + msg_type + \"' message type: \", msg);\n",
       "            return;\n",
       "        }\n",
       "\n",
       "        if (callback) {\n",
       "            try {\n",
       "                // console.log(\"Handling '\" + msg_type + \"' message: \", msg);\n",
       "                callback(fig, msg);\n",
       "            } catch (e) {\n",
       "                console.log(\"Exception inside the 'handler_\" + msg_type + \"' callback:\", e, e.stack, msg);\n",
       "            }\n",
       "        }\n",
       "    };\n",
       "}\n",
       "\n",
       "// from http://stackoverflow.com/questions/1114465/getting-mouse-location-in-canvas\n",
       "mpl.findpos = function(e) {\n",
       "    //this section is from http://www.quirksmode.org/js/events_properties.html\n",
       "    var targ;\n",
       "    if (!e)\n",
       "        e = window.event;\n",
       "    if (e.target)\n",
       "        targ = e.target;\n",
       "    else if (e.srcElement)\n",
       "        targ = e.srcElement;\n",
       "    if (targ.nodeType == 3) // defeat Safari bug\n",
       "        targ = targ.parentNode;\n",
       "\n",
       "    // jQuery normalizes the pageX and pageY\n",
       "    // pageX,Y are the mouse positions relative to the document\n",
       "    // offset() returns the position of the element relative to the document\n",
       "    var x = e.pageX - $(targ).offset().left;\n",
       "    var y = e.pageY - $(targ).offset().top;\n",
       "\n",
       "    return {\"x\": x, \"y\": y};\n",
       "};\n",
       "\n",
       "/*\n",
       " * return a copy of an object with only non-object keys\n",
       " * we need this to avoid circular references\n",
       " * http://stackoverflow.com/a/24161582/3208463\n",
       " */\n",
       "function simpleKeys (original) {\n",
       "  return Object.keys(original).reduce(function (obj, key) {\n",
       "    if (typeof original[key] !== 'object')\n",
       "        obj[key] = original[key]\n",
       "    return obj;\n",
       "  }, {});\n",
       "}\n",
       "\n",
       "mpl.figure.prototype.mouse_event = function(event, name) {\n",
       "    var canvas_pos = mpl.findpos(event)\n",
       "\n",
       "    if (name === 'button_press')\n",
       "    {\n",
       "        this.canvas.focus();\n",
       "        this.canvas_div.focus();\n",
       "    }\n",
       "\n",
       "    var x = canvas_pos.x * mpl.ratio;\n",
       "    var y = canvas_pos.y * mpl.ratio;\n",
       "\n",
       "    this.send_message(name, {x: x, y: y, button: event.button,\n",
       "                             step: event.step,\n",
       "                             guiEvent: simpleKeys(event)});\n",
       "\n",
       "    /* This prevents the web browser from automatically changing to\n",
       "     * the text insertion cursor when the button is pressed.  We want\n",
       "     * to control all of the cursor setting manually through the\n",
       "     * 'cursor' event from matplotlib */\n",
       "    event.preventDefault();\n",
       "    return false;\n",
       "}\n",
       "\n",
       "mpl.figure.prototype._key_event_extra = function(event, name) {\n",
       "    // Handle any extra behaviour associated with a key event\n",
       "}\n",
       "\n",
       "mpl.figure.prototype.key_event = function(event, name) {\n",
       "\n",
       "    // Prevent repeat events\n",
       "    if (name == 'key_press')\n",
       "    {\n",
       "        if (event.which === this._key)\n",
       "            return;\n",
       "        else\n",
       "            this._key = event.which;\n",
       "    }\n",
       "    if (name == 'key_release')\n",
       "        this._key = null;\n",
       "\n",
       "    var value = '';\n",
       "    if (event.ctrlKey && event.which != 17)\n",
       "        value += \"ctrl+\";\n",
       "    if (event.altKey && event.which != 18)\n",
       "        value += \"alt+\";\n",
       "    if (event.shiftKey && event.which != 16)\n",
       "        value += \"shift+\";\n",
       "\n",
       "    value += 'k';\n",
       "    value += event.which.toString();\n",
       "\n",
       "    this._key_event_extra(event, name);\n",
       "\n",
       "    this.send_message(name, {key: value,\n",
       "                             guiEvent: simpleKeys(event)});\n",
       "    return false;\n",
       "}\n",
       "\n",
       "mpl.figure.prototype.toolbar_button_onclick = function(name) {\n",
       "    if (name == 'download') {\n",
       "        this.handle_save(this, null);\n",
       "    } else {\n",
       "        this.send_message(\"toolbar_button\", {name: name});\n",
       "    }\n",
       "};\n",
       "\n",
       "mpl.figure.prototype.toolbar_button_onmouseover = function(tooltip) {\n",
       "    this.message.textContent = tooltip;\n",
       "};\n",
       "mpl.toolbar_items = [[\"Home\", \"Reset original view\", \"fa fa-home icon-home\", \"home\"], [\"Back\", \"Back to  previous view\", \"fa fa-arrow-left icon-arrow-left\", \"back\"], [\"Forward\", \"Forward to next view\", \"fa fa-arrow-right icon-arrow-right\", \"forward\"], [\"\", \"\", \"\", \"\"], [\"Pan\", \"Pan axes with left mouse, zoom with right\", \"fa fa-arrows icon-move\", \"pan\"], [\"Zoom\", \"Zoom to rectangle\", \"fa fa-square-o icon-check-empty\", \"zoom\"], [\"\", \"\", \"\", \"\"], [\"Download\", \"Download plot\", \"fa fa-floppy-o icon-save\", \"download\"]];\n",
       "\n",
       "mpl.extensions = [\"eps\", \"pdf\", \"png\", \"ps\", \"raw\", \"svg\"];\n",
       "\n",
       "mpl.default_extension = \"png\";var comm_websocket_adapter = function(comm) {\n",
       "    // Create a \"websocket\"-like object which calls the given IPython comm\n",
       "    // object with the appropriate methods. Currently this is a non binary\n",
       "    // socket, so there is still some room for performance tuning.\n",
       "    var ws = {};\n",
       "\n",
       "    ws.close = function() {\n",
       "        comm.close()\n",
       "    };\n",
       "    ws.send = function(m) {\n",
       "        //console.log('sending', m);\n",
       "        comm.send(m);\n",
       "    };\n",
       "    // Register the callback with on_msg.\n",
       "    comm.on_msg(function(msg) {\n",
       "        //console.log('receiving', msg['content']['data'], msg);\n",
       "        // Pass the mpl event to the overridden (by mpl) onmessage function.\n",
       "        ws.onmessage(msg['content']['data'])\n",
       "    });\n",
       "    return ws;\n",
       "}\n",
       "\n",
       "mpl.mpl_figure_comm = function(comm, msg) {\n",
       "    // This is the function which gets called when the mpl process\n",
       "    // starts-up an IPython Comm through the \"matplotlib\" channel.\n",
       "\n",
       "    var id = msg.content.data.id;\n",
       "    // Get hold of the div created by the display call when the Comm\n",
       "    // socket was opened in Python.\n",
       "    var element = $(\"#\" + id);\n",
       "    var ws_proxy = comm_websocket_adapter(comm)\n",
       "\n",
       "    function ondownload(figure, format) {\n",
       "        window.open(figure.imageObj.src);\n",
       "    }\n",
       "\n",
       "    var fig = new mpl.figure(id, ws_proxy,\n",
       "                           ondownload,\n",
       "                           element.get(0));\n",
       "\n",
       "    // Call onopen now - mpl needs it, as it is assuming we've passed it a real\n",
       "    // web socket which is closed, not our websocket->open comm proxy.\n",
       "    ws_proxy.onopen();\n",
       "\n",
       "    fig.parent_element = element.get(0);\n",
       "    fig.cell_info = mpl.find_output_cell(\"<div id='\" + id + \"'></div>\");\n",
       "    if (!fig.cell_info) {\n",
       "        console.error(\"Failed to find cell for figure\", id, fig);\n",
       "        return;\n",
       "    }\n",
       "\n",
       "    var output_index = fig.cell_info[2]\n",
       "    var cell = fig.cell_info[0];\n",
       "\n",
       "};\n",
       "\n",
       "mpl.figure.prototype.handle_close = function(fig, msg) {\n",
       "    var width = fig.canvas.width/mpl.ratio\n",
       "    fig.root.unbind('remove')\n",
       "\n",
       "    // Update the output cell to use the data from the current canvas.\n",
       "    fig.push_to_output();\n",
       "    var dataURL = fig.canvas.toDataURL();\n",
       "    // Re-enable the keyboard manager in IPython - without this line, in FF,\n",
       "    // the notebook keyboard shortcuts fail.\n",
       "    IPython.keyboard_manager.enable()\n",
       "    $(fig.parent_element).html('<img src=\"' + dataURL + '\" width=\"' + width + '\">');\n",
       "    fig.close_ws(fig, msg);\n",
       "}\n",
       "\n",
       "mpl.figure.prototype.close_ws = function(fig, msg){\n",
       "    fig.send_message('closing', msg);\n",
       "    // fig.ws.close()\n",
       "}\n",
       "\n",
       "mpl.figure.prototype.push_to_output = function(remove_interactive) {\n",
       "    // Turn the data on the canvas into data in the output cell.\n",
       "    var width = this.canvas.width/mpl.ratio\n",
       "    var dataURL = this.canvas.toDataURL();\n",
       "    this.cell_info[1]['text/html'] = '<img src=\"' + dataURL + '\" width=\"' + width + '\">';\n",
       "}\n",
       "\n",
       "mpl.figure.prototype.updated_canvas_event = function() {\n",
       "    // Tell IPython that the notebook contents must change.\n",
       "    IPython.notebook.set_dirty(true);\n",
       "    this.send_message(\"ack\", {});\n",
       "    var fig = this;\n",
       "    // Wait a second, then push the new image to the DOM so\n",
       "    // that it is saved nicely (might be nice to debounce this).\n",
       "    setTimeout(function () { fig.push_to_output() }, 1000);\n",
       "}\n",
       "\n",
       "mpl.figure.prototype._init_toolbar = function() {\n",
       "    var fig = this;\n",
       "\n",
       "    var nav_element = $('<div/>')\n",
       "    nav_element.attr('style', 'width: 100%');\n",
       "    this.root.append(nav_element);\n",
       "\n",
       "    // Define a callback function for later on.\n",
       "    function toolbar_event(event) {\n",
       "        return fig.toolbar_button_onclick(event['data']);\n",
       "    }\n",
       "    function toolbar_mouse_event(event) {\n",
       "        return fig.toolbar_button_onmouseover(event['data']);\n",
       "    }\n",
       "\n",
       "    for(var toolbar_ind in mpl.toolbar_items){\n",
       "        var name = mpl.toolbar_items[toolbar_ind][0];\n",
       "        var tooltip = mpl.toolbar_items[toolbar_ind][1];\n",
       "        var image = mpl.toolbar_items[toolbar_ind][2];\n",
       "        var method_name = mpl.toolbar_items[toolbar_ind][3];\n",
       "\n",
       "        if (!name) { continue; };\n",
       "\n",
       "        var button = $('<button class=\"btn btn-default\" href=\"#\" title=\"' + name + '\"><i class=\"fa ' + image + ' fa-lg\"></i></button>');\n",
       "        button.click(method_name, toolbar_event);\n",
       "        button.mouseover(tooltip, toolbar_mouse_event);\n",
       "        nav_element.append(button);\n",
       "    }\n",
       "\n",
       "    // Add the status bar.\n",
       "    var status_bar = $('<span class=\"mpl-message\" style=\"text-align:right; float: right;\"/>');\n",
       "    nav_element.append(status_bar);\n",
       "    this.message = status_bar[0];\n",
       "\n",
       "    // Add the close button to the window.\n",
       "    var buttongrp = $('<div class=\"btn-group inline pull-right\"></div>');\n",
       "    var button = $('<button class=\"btn btn-mini btn-primary\" href=\"#\" title=\"Stop Interaction\"><i class=\"fa fa-power-off icon-remove icon-large\"></i></button>');\n",
       "    button.click(function (evt) { fig.handle_close(fig, {}); } );\n",
       "    button.mouseover('Stop Interaction', toolbar_mouse_event);\n",
       "    buttongrp.append(button);\n",
       "    var titlebar = this.root.find($('.ui-dialog-titlebar'));\n",
       "    titlebar.prepend(buttongrp);\n",
       "}\n",
       "\n",
       "mpl.figure.prototype._root_extra_style = function(el){\n",
       "    var fig = this\n",
       "    el.on(\"remove\", function(){\n",
       "\tfig.close_ws(fig, {});\n",
       "    });\n",
       "}\n",
       "\n",
       "mpl.figure.prototype._canvas_extra_style = function(el){\n",
       "    // this is important to make the div 'focusable\n",
       "    el.attr('tabindex', 0)\n",
       "    // reach out to IPython and tell the keyboard manager to turn it's self\n",
       "    // off when our div gets focus\n",
       "\n",
       "    // location in version 3\n",
       "    if (IPython.notebook.keyboard_manager) {\n",
       "        IPython.notebook.keyboard_manager.register_events(el);\n",
       "    }\n",
       "    else {\n",
       "        // location in version 2\n",
       "        IPython.keyboard_manager.register_events(el);\n",
       "    }\n",
       "\n",
       "}\n",
       "\n",
       "mpl.figure.prototype._key_event_extra = function(event, name) {\n",
       "    var manager = IPython.notebook.keyboard_manager;\n",
       "    if (!manager)\n",
       "        manager = IPython.keyboard_manager;\n",
       "\n",
       "    // Check for shift+enter\n",
       "    if (event.shiftKey && event.which == 13) {\n",
       "        this.canvas_div.blur();\n",
       "        event.shiftKey = false;\n",
       "        // Send a \"J\" for go to next cell\n",
       "        event.which = 74;\n",
       "        event.keyCode = 74;\n",
       "        manager.command_mode();\n",
       "        manager.handle_keydown(event);\n",
       "    }\n",
       "}\n",
       "\n",
       "mpl.figure.prototype.handle_save = function(fig, msg) {\n",
       "    fig.ondownload(fig, null);\n",
       "}\n",
       "\n",
       "\n",
       "mpl.find_output_cell = function(html_output) {\n",
       "    // Return the cell and output element which can be found *uniquely* in the notebook.\n",
       "    // Note - this is a bit hacky, but it is done because the \"notebook_saving.Notebook\"\n",
       "    // IPython event is triggered only after the cells have been serialised, which for\n",
       "    // our purposes (turning an active figure into a static one), is too late.\n",
       "    var cells = IPython.notebook.get_cells();\n",
       "    var ncells = cells.length;\n",
       "    for (var i=0; i<ncells; i++) {\n",
       "        var cell = cells[i];\n",
       "        if (cell.cell_type === 'code'){\n",
       "            for (var j=0; j<cell.output_area.outputs.length; j++) {\n",
       "                var data = cell.output_area.outputs[j];\n",
       "                if (data.data) {\n",
       "                    // IPython >= 3 moved mimebundle to data attribute of output\n",
       "                    data = data.data;\n",
       "                }\n",
       "                if (data['text/html'] == html_output) {\n",
       "                    return [cell, data, j];\n",
       "                }\n",
       "            }\n",
       "        }\n",
       "    }\n",
       "}\n",
       "\n",
       "// Register the function which deals with the matplotlib target/channel.\n",
       "// The kernel may be null if the page has been refreshed.\n",
       "if (IPython.notebook.kernel != null) {\n",
       "    IPython.notebook.kernel.comm_manager.register_target('matplotlib', mpl.mpl_figure_comm);\n",
       "}\n"
      ],
      "text/plain": [
       "<IPython.core.display.Javascript object>"
      ]
     },
     "metadata": {},
     "output_type": "display_data"
    },
    {
     "data": {
      "text/html": [
       "<img src=\"data:image/png;base64,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\" width=\"640\">"
      ],
      "text/plain": [
       "<IPython.core.display.HTML object>"
      ]
     },
     "metadata": {},
     "output_type": "display_data"
    },
    {
     "data": {
      "text/plain": [
       "<sympy.plotting.plot.Plot at 0x7f3d9a016c18>"
      ]
     },
     "execution_count": 86,
     "metadata": {},
     "output_type": "execute_result"
    }
   ],
   "source": [
    "sp.plot(H)"
   ]
  },
  {
   "cell_type": "code",
   "execution_count": 87,
   "metadata": {},
   "outputs": [
    {
     "data": {
      "image/png": "[encoded data removed]",
      "text/latex": [
       "$$\\delta\\left(x\\right)$$"
      ],
      "text/plain": [
       "δ(x)"
      ]
     },
     "execution_count": 87,
     "metadata": {},
     "output_type": "execute_result"
    }
   ],
   "source": [
    "sp.diff(H,x)"
   ]
  },
  {
   "cell_type": "markdown",
   "metadata": {},
   "source": [
    "## Álgebra lineal"
   ]
  },
  {
   "cell_type": "markdown",
   "metadata": {},
   "source": [
    "### Matrices\n",
    "\n",
    "En SymPy podemos usar la clase `Matrix` para definir matrices:"
   ]
  },
  {
   "cell_type": "code",
   "execution_count": 88,
   "metadata": {},
   "outputs": [],
   "source": [
    "v1, v2 = sp.symbols(\"v_1, v_2\")\n",
    "alpha, beta =  sp.symbols('alpha, beta', real=True)"
   ]
  },
  {
   "cell_type": "code",
   "execution_count": 89,
   "metadata": {},
   "outputs": [
    {
     "data": {
      "image/png": "[encoded data removed]",
      "text/latex": [
       "$$\\left[\\begin{matrix}i \\alpha & \\beta\\\\- \\beta & i \\alpha\\end{matrix}\\right]$$"
      ],
      "text/plain": [
       "⎡ⅈ⋅α   β ⎤\n",
       "⎢        ⎥\n",
       "⎣-β   ⅈ⋅α⎦"
      ]
     },
     "execution_count": 89,
     "metadata": {},
     "output_type": "execute_result"
    }
   ],
   "source": [
    "A = sp.Matrix([[sp.I*alpha, beta],[-beta, sp.I*alpha]])\n",
    "A"
   ]
  },
  {
   "cell_type": "code",
   "execution_count": 90,
   "metadata": {},
   "outputs": [
    {
     "data": {
      "image/png": "[encoded data removed]",
      "text/latex": [
       "$$\\left[\\begin{matrix}v_{1}\\\\v_{2}\\end{matrix}\\right]$$"
      ],
      "text/plain": [
       "⎡v₁⎤\n",
       "⎢  ⎥\n",
       "⎣v₂⎦"
      ]
     },
     "execution_count": 90,
     "metadata": {},
     "output_type": "execute_result"
    }
   ],
   "source": [
    "v = sp.Matrix([[v1], [v2]])\n",
    "v"
   ]
  },
  {
   "cell_type": "markdown",
   "metadata": {},
   "source": [
    "La clase `Matrix` nos permite realizar las usuales operaciones matriciales:"
   ]
  },
  {
   "cell_type": "code",
   "execution_count": 91,
   "metadata": {},
   "outputs": [
    {
     "data": {
      "image/png": "[encoded data removed]",
      "text/latex": [
       "$$\\left[\\begin{matrix}- \\alpha^{2} - \\beta^{2} & 2 i \\alpha \\beta\\\\- 2 i \\alpha \\beta & - \\alpha^{2} - \\beta^{2}\\end{matrix}\\right]$$"
      ],
      "text/plain": [
       "⎡   2    2           ⎤\n",
       "⎢- α  - β    2⋅ⅈ⋅α⋅β ⎥\n",
       "⎢                    ⎥\n",
       "⎢              2    2⎥\n",
       "⎣-2⋅ⅈ⋅α⋅β   - α  - β ⎦"
      ]
     },
     "execution_count": 91,
     "metadata": {},
     "output_type": "execute_result"
    }
   ],
   "source": [
    "A**2 # note la diferencia con lo que hace si A fuese un arreglo de Numpy"
   ]
  },
  {
   "cell_type": "code",
   "execution_count": 92,
   "metadata": {},
   "outputs": [
    {
     "data": {
      "image/png": "[encoded data removed]",
      "text/latex": [
       "$$\\left[\\begin{matrix}i \\alpha v_{1} + \\beta v_{2}\\\\i \\alpha v_{2} - \\beta v_{1}\\end{matrix}\\right]$$"
      ],
      "text/plain": [
       "⎡ⅈ⋅α⋅v₁ + β⋅v₂⎤\n",
       "⎢             ⎥\n",
       "⎣ⅈ⋅α⋅v₂ - β⋅v₁⎦"
      ]
     },
     "execution_count": 92,
     "metadata": {},
     "output_type": "execute_result"
    }
   ],
   "source": [
    "A * v"
   ]
  },
  {
   "cell_type": "code",
   "execution_count": 93,
   "metadata": {},
   "outputs": [
    {
     "data": {
      "image/png": "[encoded data removed]",
      "text/latex": [
       "$$\\left ( - \\alpha^{2} + \\beta^{2}, \\quad - \\alpha^{2} + \\beta^{2}\\right )$$"
      ],
      "text/plain": [
       "⎛   2    2     2    2⎞\n",
       "⎝- α  + β , - α  + β ⎠"
      ]
     },
     "execution_count": 93,
     "metadata": {},
     "output_type": "execute_result"
    }
   ],
   "source": [
    "sp.det(A), A.det()"
   ]
  },
  {
   "cell_type": "code",
   "execution_count": 94,
   "metadata": {},
   "outputs": [
    {
     "data": {
      "image/png": "[encoded data removed]",
      "text/latex": [
       "$$\\left[\\begin{matrix}\\frac{i \\alpha}{- \\alpha^{2} + \\beta^{2}} & - \\frac{\\beta}{- \\alpha^{2} + \\beta^{2}}\\\\\\frac{\\beta}{- \\alpha^{2} + \\beta^{2}} & \\frac{i \\alpha}{- \\alpha^{2} + \\beta^{2}}\\end{matrix}\\right]$$"
      ],
      "text/plain": [
       "⎡   ⅈ⋅α        -β    ⎤\n",
       "⎢─────────  ─────────⎥\n",
       "⎢   2    2     2    2⎥\n",
       "⎢- α  + β   - α  + β ⎥\n",
       "⎢                    ⎥\n",
       "⎢    β         ⅈ⋅α   ⎥\n",
       "⎢─────────  ─────────⎥\n",
       "⎢   2    2     2    2⎥\n",
       "⎣- α  + β   - α  + β ⎦"
      ]
     },
     "execution_count": 94,
     "metadata": {},
     "output_type": "execute_result"
    }
   ],
   "source": [
    "A.inv()"
   ]
  },
  {
   "cell_type": "code",
   "execution_count": 95,
   "metadata": {},
   "outputs": [
    {
     "data": {
      "image/png": "[encoded data removed]",
      "text/latex": [
       "$$\\left[\\begin{matrix}\\frac{e^{i \\alpha - i \\beta}}{2} + \\frac{e^{i \\alpha + i \\beta}}{2} & \\frac{i e^{i \\alpha - i \\beta}}{2} - \\frac{i e^{i \\alpha + i \\beta}}{2}\\\\- \\frac{i e^{i \\alpha - i \\beta}}{2} + \\frac{i e^{i \\alpha + i \\beta}}{2} & \\frac{e^{i \\alpha - i \\beta}}{2} + \\frac{e^{i \\alpha + i \\beta}}{2}\\end{matrix}\\right]$$"
      ],
      "text/plain": [
       "⎡    ⅈ⋅α - ⅈ⋅β    ⅈ⋅α + ⅈ⋅β        ⅈ⋅α - ⅈ⋅β      ⅈ⋅α + ⅈ⋅β⎤\n",
       "⎢   ℯ            ℯ              ⅈ⋅ℯ            ⅈ⋅ℯ         ⎥\n",
       "⎢   ────────── + ──────────     ──────────── - ────────────⎥\n",
       "⎢       2            2               2              2      ⎥\n",
       "⎢                                                          ⎥\n",
       "⎢     ⅈ⋅α - ⅈ⋅β      ⅈ⋅α + ⅈ⋅β     ⅈ⋅α - ⅈ⋅β    ⅈ⋅α + ⅈ⋅β  ⎥\n",
       "⎢  ⅈ⋅ℯ            ⅈ⋅ℯ             ℯ            ℯ           ⎥\n",
       "⎢- ──────────── + ────────────    ────────── + ──────────  ⎥\n",
       "⎣       2              2              2            2       ⎦"
      ]
     },
     "execution_count": 95,
     "metadata": {},
     "output_type": "execute_result"
    }
   ],
   "source": [
    "sp.exp(A)"
   ]
  },
  {
   "cell_type": "markdown",
   "metadata": {},
   "source": [
    "## Solución de (sistemas de) ecuaciones\n",
    "\n",
    "Podemos solucionar (sistemas de) ecuaciones por medio de la función `solve`:"
   ]
  },
  {
   "cell_type": "code",
   "execution_count": 96,
   "metadata": {},
   "outputs": [
    {
     "data": {
      "image/png": "[encoded data removed]",
      "text/latex": [
       "$$\\left [ -1, \\quad 1\\right ]$$"
      ],
      "text/plain": [
       "[-1, 1]"
      ]
     },
     "execution_count": 96,
     "metadata": {},
     "output_type": "execute_result"
    }
   ],
   "source": [
    "sp.solve(x**2 - 1, x)"
   ]
  },
  {
   "cell_type": "code",
   "execution_count": 97,
   "metadata": {},
   "outputs": [
    {
     "data": {
      "image/png": "[encoded data removed]",
      "text/latex": [
       "$$\\left [ - i \\sqrt{- \\frac{1}{2} + \\frac{\\sqrt{5}}{2}}, \\quad i \\sqrt{- \\frac{1}{2} + \\frac{\\sqrt{5}}{2}}, \\quad - \\sqrt{\\frac{1}{2} + \\frac{\\sqrt{5}}{2}}, \\quad \\sqrt{\\frac{1}{2} + \\frac{\\sqrt{5}}{2}}\\right ]$$"
      ],
      "text/plain": [
       "⎡       __________        __________       ________      ________⎤\n",
       "⎢      ╱   1   √5        ╱   1   √5       ╱ 1   √5      ╱ 1   √5 ⎥\n",
       "⎢-ⅈ⋅  ╱  - ─ + ── , ⅈ⋅  ╱  - ─ + ── , -  ╱  ─ + ── ,   ╱  ─ + ── ⎥\n",
       "⎣   ╲╱     2   2      ╲╱     2   2     ╲╱   2   2    ╲╱   2   2  ⎦"
      ]
     },
     "execution_count": 97,
     "metadata": {},
     "output_type": "execute_result"
    }
   ],
   "source": [
    "sp.solve(x**4 - x**2 - 1, x)"
   ]
  },
  {
   "cell_type": "markdown",
   "metadata": {},
   "source": [
    "### Sistemas de ecuaciones:"
   ]
  },
  {
   "cell_type": "code",
   "execution_count": 98,
   "metadata": {},
   "outputs": [
    {
     "data": {
      "image/png": "[encoded data removed]",
      "text/latex": [
       "$$\\left \\{ x : 1, \\quad y : 0\\right \\}$$"
      ],
      "text/plain": [
       "{x: 1, y: 0}"
      ]
     },
     "execution_count": 98,
     "metadata": {},
     "output_type": "execute_result"
    }
   ],
   "source": [
    "sp.solve([x + y - 1, x - y - 1], [x,y])"
   ]
  },
  {
   "cell_type": "code",
   "execution_count": 99,
   "metadata": {},
   "outputs": [
    {
     "data": {
      "image/png": "[encoded data removed]",
      "text/latex": [
       "$$\\left \\{ x : \\frac{a}{2} + \\frac{c}{2}, \\quad y : \\frac{a}{2} - \\frac{c}{2}\\right \\}$$"
      ],
      "text/plain": [
       "⎧   a   c     a   c⎫\n",
       "⎨x: ─ + ─, y: ─ - ─⎬\n",
       "⎩   2   2     2   2⎭"
      ]
     },
     "execution_count": 99,
     "metadata": {},
     "output_type": "execute_result"
    }
   ],
   "source": [
    "sp.solve([x + y - a, x - y - c], [x,y])"
   ]
  },
  {
   "cell_type": "code",
   "execution_count": 100,
   "metadata": {},
   "outputs": [
    {
     "data": {
      "image/png": "[encoded data removed]",
      "text/latex": [
       "$$\\left [ \\frac{\\pi}{2}, \\quad \\frac{3 \\pi}{2}\\right ]$$"
      ],
      "text/plain": [
       "⎡π  3⋅π⎤\n",
       "⎢─, ───⎥\n",
       "⎣2   2 ⎦"
      ]
     },
     "execution_count": 100,
     "metadata": {},
     "output_type": "execute_result"
    }
   ],
   "source": [
    "sp.solve(sp.cos(x),x)"
   ]
  },
  {
   "cell_type": "markdown",
   "metadata": {},
   "source": [
    "# Ecuaciones diferenciales"
   ]
  },
  {
   "cell_type": "code",
   "execution_count": 101,
   "metadata": {},
   "outputs": [],
   "source": [
    "y = sp.Function('y')(x)"
   ]
  },
  {
   "cell_type": "code",
   "execution_count": 102,
   "metadata": {},
   "outputs": [
    {
     "data": {
      "image/png": "[encoded data removed]",
      "text/latex": [
       "$$y{\\left (x \\right )} + \\frac{d^{2}}{d x^{2}} y{\\left (x \\right )}$$"
      ],
      "text/plain": [
       "         2      \n",
       "        d       \n",
       "y(x) + ───(y(x))\n",
       "         2      \n",
       "       dx       "
      ]
     },
     "execution_count": 102,
     "metadata": {},
     "output_type": "execute_result"
    }
   ],
   "source": [
    "eq = y.diff(x,2)+y\n",
    "eq"
   ]
  },
  {
   "cell_type": "code",
   "execution_count": 103,
   "metadata": {},
   "outputs": [
    {
     "data": {
      "image/png": "[encoded data removed]",
      "text/latex": [
       "$$y{\\left (x \\right )} = C_{1} \\sin{\\left (x \\right )} + C_{2} \\cos{\\left (x \\right )}$$"
      ],
      "text/plain": [
       "y(x) = C₁⋅sin(x) + C₂⋅cos(x)"
      ]
     },
     "execution_count": 103,
     "metadata": {},
     "output_type": "execute_result"
    }
   ],
   "source": [
    "sp.dsolve(eq)"
   ]
  },
  {
   "cell_type": "markdown",
   "metadata": {},
   "source": [
    "## Lectura adicional\n",
    "\n",
    "* http://sympy.org/en/index.html - The SymPy projects web page.\n",
    "* https://github.com/sympy/sympy - The source code of SymPy.\n",
    "* http://live.sympy.org - Online version of SymPy for testing and demonstrations.\n"
   ]
  }
 ],
 "metadata": {
  "kernelspec": {
   "display_name": "Python 3",
   "language": "python",
   "name": "python3"
  },
  "language_info": {
   "codemirror_mode": {
    "name": "ipython",
    "version": 3
   },
   "file_extension": ".py",
   "mimetype": "text/x-python",
   "name": "python",
   "nbconvert_exporter": "python",
   "pygments_lexer": "ipython3",
   "version": "3.6.5"
  }
 },
 "nbformat": 4,
 "nbformat_minor": 1
}
